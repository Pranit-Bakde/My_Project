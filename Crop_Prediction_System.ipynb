{
 "cells": [
  {
   "cell_type": "code",
   "execution_count": 1,
   "id": "9aa53c97-4536-4dcd-b86d-fe7daa65cd73",
   "metadata": {},
   "outputs": [],
   "source": [
    "import pandas as pd\n",
    "import numpy as np\n",
    "import matplotlib.pyplot as plt\n",
    "from sklearn.model_selection import train_test_split\n",
    "from sklearn.ensemble import RandomForestClassifier\n",
    "import pickle\n",
    "\n"
   ]
  },
  {
   "cell_type": "code",
   "execution_count": 2,
   "id": "e31b2b92-e163-4db8-88f2-f3ea4aac542f",
   "metadata": {},
   "outputs": [],
   "source": [
    "# Load the dataset\n",
    "data = pd.read_csv(\"Crop_recommendation.csv\")"
   ]
  },
  {
   "cell_type": "code",
   "execution_count": 3,
   "id": "20633a0d-a8a8-4b99-8b19-f9b6e78f930c",
   "metadata": {},
   "outputs": [
    {
     "data": {
      "text/html": [
       "<div>\n",
       "<style scoped>\n",
       "    .dataframe tbody tr th:only-of-type {\n",
       "        vertical-align: middle;\n",
       "    }\n",
       "\n",
       "    .dataframe tbody tr th {\n",
       "        vertical-align: top;\n",
       "    }\n",
       "\n",
       "    .dataframe thead th {\n",
       "        text-align: right;\n",
       "    }\n",
       "</style>\n",
       "<table border=\"1\" class=\"dataframe\">\n",
       "  <thead>\n",
       "    <tr style=\"text-align: right;\">\n",
       "      <th></th>\n",
       "      <th>N</th>\n",
       "      <th>P</th>\n",
       "      <th>K</th>\n",
       "      <th>temperature</th>\n",
       "      <th>humidity</th>\n",
       "      <th>ph</th>\n",
       "      <th>rainfall</th>\n",
       "      <th>label</th>\n",
       "    </tr>\n",
       "  </thead>\n",
       "  <tbody>\n",
       "    <tr>\n",
       "      <th>0</th>\n",
       "      <td>90</td>\n",
       "      <td>42</td>\n",
       "      <td>43</td>\n",
       "      <td>20.879744</td>\n",
       "      <td>82.002744</td>\n",
       "      <td>6.502985</td>\n",
       "      <td>202.935536</td>\n",
       "      <td>rice</td>\n",
       "    </tr>\n",
       "    <tr>\n",
       "      <th>1</th>\n",
       "      <td>85</td>\n",
       "      <td>58</td>\n",
       "      <td>41</td>\n",
       "      <td>21.770462</td>\n",
       "      <td>80.319644</td>\n",
       "      <td>7.038096</td>\n",
       "      <td>226.655537</td>\n",
       "      <td>rice</td>\n",
       "    </tr>\n",
       "    <tr>\n",
       "      <th>2</th>\n",
       "      <td>60</td>\n",
       "      <td>55</td>\n",
       "      <td>44</td>\n",
       "      <td>23.004459</td>\n",
       "      <td>82.320763</td>\n",
       "      <td>7.840207</td>\n",
       "      <td>263.964248</td>\n",
       "      <td>rice</td>\n",
       "    </tr>\n",
       "    <tr>\n",
       "      <th>3</th>\n",
       "      <td>74</td>\n",
       "      <td>35</td>\n",
       "      <td>40</td>\n",
       "      <td>26.491096</td>\n",
       "      <td>80.158363</td>\n",
       "      <td>6.980401</td>\n",
       "      <td>242.864034</td>\n",
       "      <td>rice</td>\n",
       "    </tr>\n",
       "    <tr>\n",
       "      <th>4</th>\n",
       "      <td>78</td>\n",
       "      <td>42</td>\n",
       "      <td>42</td>\n",
       "      <td>20.130175</td>\n",
       "      <td>81.604873</td>\n",
       "      <td>7.628473</td>\n",
       "      <td>262.717340</td>\n",
       "      <td>rice</td>\n",
       "    </tr>\n",
       "    <tr>\n",
       "      <th>...</th>\n",
       "      <td>...</td>\n",
       "      <td>...</td>\n",
       "      <td>...</td>\n",
       "      <td>...</td>\n",
       "      <td>...</td>\n",
       "      <td>...</td>\n",
       "      <td>...</td>\n",
       "      <td>...</td>\n",
       "    </tr>\n",
       "    <tr>\n",
       "      <th>2195</th>\n",
       "      <td>107</td>\n",
       "      <td>34</td>\n",
       "      <td>32</td>\n",
       "      <td>26.774637</td>\n",
       "      <td>66.413269</td>\n",
       "      <td>6.780064</td>\n",
       "      <td>177.774507</td>\n",
       "      <td>coffee</td>\n",
       "    </tr>\n",
       "    <tr>\n",
       "      <th>2196</th>\n",
       "      <td>99</td>\n",
       "      <td>15</td>\n",
       "      <td>27</td>\n",
       "      <td>27.417112</td>\n",
       "      <td>56.636362</td>\n",
       "      <td>6.086922</td>\n",
       "      <td>127.924610</td>\n",
       "      <td>coffee</td>\n",
       "    </tr>\n",
       "    <tr>\n",
       "      <th>2197</th>\n",
       "      <td>118</td>\n",
       "      <td>33</td>\n",
       "      <td>30</td>\n",
       "      <td>24.131797</td>\n",
       "      <td>67.225123</td>\n",
       "      <td>6.362608</td>\n",
       "      <td>173.322839</td>\n",
       "      <td>coffee</td>\n",
       "    </tr>\n",
       "    <tr>\n",
       "      <th>2198</th>\n",
       "      <td>117</td>\n",
       "      <td>32</td>\n",
       "      <td>34</td>\n",
       "      <td>26.272418</td>\n",
       "      <td>52.127394</td>\n",
       "      <td>6.758793</td>\n",
       "      <td>127.175293</td>\n",
       "      <td>coffee</td>\n",
       "    </tr>\n",
       "    <tr>\n",
       "      <th>2199</th>\n",
       "      <td>104</td>\n",
       "      <td>18</td>\n",
       "      <td>30</td>\n",
       "      <td>23.603016</td>\n",
       "      <td>60.396475</td>\n",
       "      <td>6.779833</td>\n",
       "      <td>140.937041</td>\n",
       "      <td>coffee</td>\n",
       "    </tr>\n",
       "  </tbody>\n",
       "</table>\n",
       "<p>2200 rows × 8 columns</p>\n",
       "</div>"
      ],
      "text/plain": [
       "        N   P   K  temperature   humidity        ph    rainfall   label\n",
       "0      90  42  43    20.879744  82.002744  6.502985  202.935536    rice\n",
       "1      85  58  41    21.770462  80.319644  7.038096  226.655537    rice\n",
       "2      60  55  44    23.004459  82.320763  7.840207  263.964248    rice\n",
       "3      74  35  40    26.491096  80.158363  6.980401  242.864034    rice\n",
       "4      78  42  42    20.130175  81.604873  7.628473  262.717340    rice\n",
       "...   ...  ..  ..          ...        ...       ...         ...     ...\n",
       "2195  107  34  32    26.774637  66.413269  6.780064  177.774507  coffee\n",
       "2196   99  15  27    27.417112  56.636362  6.086922  127.924610  coffee\n",
       "2197  118  33  30    24.131797  67.225123  6.362608  173.322839  coffee\n",
       "2198  117  32  34    26.272418  52.127394  6.758793  127.175293  coffee\n",
       "2199  104  18  30    23.603016  60.396475  6.779833  140.937041  coffee\n",
       "\n",
       "[2200 rows x 8 columns]"
      ]
     },
     "execution_count": 3,
     "metadata": {},
     "output_type": "execute_result"
    }
   ],
   "source": [
    "data"
   ]
  },
  {
   "cell_type": "code",
   "execution_count": 4,
   "id": "4d922525-1a02-4c99-89e6-2b44aafa1ae1",
   "metadata": {},
   "outputs": [
    {
     "data": {
      "text/html": [
       "<div>\n",
       "<style scoped>\n",
       "    .dataframe tbody tr th:only-of-type {\n",
       "        vertical-align: middle;\n",
       "    }\n",
       "\n",
       "    .dataframe tbody tr th {\n",
       "        vertical-align: top;\n",
       "    }\n",
       "\n",
       "    .dataframe thead th {\n",
       "        text-align: right;\n",
       "    }\n",
       "</style>\n",
       "<table border=\"1\" class=\"dataframe\">\n",
       "  <thead>\n",
       "    <tr style=\"text-align: right;\">\n",
       "      <th></th>\n",
       "      <th>N</th>\n",
       "      <th>P</th>\n",
       "      <th>K</th>\n",
       "      <th>temperature</th>\n",
       "      <th>humidity</th>\n",
       "      <th>ph</th>\n",
       "      <th>rainfall</th>\n",
       "      <th>label</th>\n",
       "    </tr>\n",
       "  </thead>\n",
       "  <tbody>\n",
       "    <tr>\n",
       "      <th>0</th>\n",
       "      <td>90</td>\n",
       "      <td>42</td>\n",
       "      <td>43</td>\n",
       "      <td>20.879744</td>\n",
       "      <td>82.002744</td>\n",
       "      <td>6.502985</td>\n",
       "      <td>202.935536</td>\n",
       "      <td>rice</td>\n",
       "    </tr>\n",
       "    <tr>\n",
       "      <th>1</th>\n",
       "      <td>85</td>\n",
       "      <td>58</td>\n",
       "      <td>41</td>\n",
       "      <td>21.770462</td>\n",
       "      <td>80.319644</td>\n",
       "      <td>7.038096</td>\n",
       "      <td>226.655537</td>\n",
       "      <td>rice</td>\n",
       "    </tr>\n",
       "    <tr>\n",
       "      <th>2</th>\n",
       "      <td>60</td>\n",
       "      <td>55</td>\n",
       "      <td>44</td>\n",
       "      <td>23.004459</td>\n",
       "      <td>82.320763</td>\n",
       "      <td>7.840207</td>\n",
       "      <td>263.964248</td>\n",
       "      <td>rice</td>\n",
       "    </tr>\n",
       "    <tr>\n",
       "      <th>3</th>\n",
       "      <td>74</td>\n",
       "      <td>35</td>\n",
       "      <td>40</td>\n",
       "      <td>26.491096</td>\n",
       "      <td>80.158363</td>\n",
       "      <td>6.980401</td>\n",
       "      <td>242.864034</td>\n",
       "      <td>rice</td>\n",
       "    </tr>\n",
       "    <tr>\n",
       "      <th>4</th>\n",
       "      <td>78</td>\n",
       "      <td>42</td>\n",
       "      <td>42</td>\n",
       "      <td>20.130175</td>\n",
       "      <td>81.604873</td>\n",
       "      <td>7.628473</td>\n",
       "      <td>262.717340</td>\n",
       "      <td>rice</td>\n",
       "    </tr>\n",
       "  </tbody>\n",
       "</table>\n",
       "</div>"
      ],
      "text/plain": [
       "    N   P   K  temperature   humidity        ph    rainfall label\n",
       "0  90  42  43    20.879744  82.002744  6.502985  202.935536  rice\n",
       "1  85  58  41    21.770462  80.319644  7.038096  226.655537  rice\n",
       "2  60  55  44    23.004459  82.320763  7.840207  263.964248  rice\n",
       "3  74  35  40    26.491096  80.158363  6.980401  242.864034  rice\n",
       "4  78  42  42    20.130175  81.604873  7.628473  262.717340  rice"
      ]
     },
     "execution_count": 4,
     "metadata": {},
     "output_type": "execute_result"
    }
   ],
   "source": [
    "data.head()"
   ]
  },
  {
   "cell_type": "code",
   "execution_count": 5,
   "id": "b269f038-7c70-4612-b255-0251222a69b8",
   "metadata": {},
   "outputs": [
    {
     "data": {
      "text/html": [
       "<div>\n",
       "<style scoped>\n",
       "    .dataframe tbody tr th:only-of-type {\n",
       "        vertical-align: middle;\n",
       "    }\n",
       "\n",
       "    .dataframe tbody tr th {\n",
       "        vertical-align: top;\n",
       "    }\n",
       "\n",
       "    .dataframe thead th {\n",
       "        text-align: right;\n",
       "    }\n",
       "</style>\n",
       "<table border=\"1\" class=\"dataframe\">\n",
       "  <thead>\n",
       "    <tr style=\"text-align: right;\">\n",
       "      <th></th>\n",
       "      <th>N</th>\n",
       "      <th>P</th>\n",
       "      <th>K</th>\n",
       "      <th>temperature</th>\n",
       "      <th>humidity</th>\n",
       "      <th>ph</th>\n",
       "      <th>rainfall</th>\n",
       "    </tr>\n",
       "  </thead>\n",
       "  <tbody>\n",
       "    <tr>\n",
       "      <th>count</th>\n",
       "      <td>2200.000000</td>\n",
       "      <td>2200.000000</td>\n",
       "      <td>2200.000000</td>\n",
       "      <td>2200.000000</td>\n",
       "      <td>2200.000000</td>\n",
       "      <td>2200.000000</td>\n",
       "      <td>2200.000000</td>\n",
       "    </tr>\n",
       "    <tr>\n",
       "      <th>mean</th>\n",
       "      <td>50.551818</td>\n",
       "      <td>53.362727</td>\n",
       "      <td>48.149091</td>\n",
       "      <td>25.616244</td>\n",
       "      <td>71.481779</td>\n",
       "      <td>6.469480</td>\n",
       "      <td>103.463655</td>\n",
       "    </tr>\n",
       "    <tr>\n",
       "      <th>std</th>\n",
       "      <td>36.917334</td>\n",
       "      <td>32.985883</td>\n",
       "      <td>50.647931</td>\n",
       "      <td>5.063749</td>\n",
       "      <td>22.263812</td>\n",
       "      <td>0.773938</td>\n",
       "      <td>54.958389</td>\n",
       "    </tr>\n",
       "    <tr>\n",
       "      <th>min</th>\n",
       "      <td>0.000000</td>\n",
       "      <td>5.000000</td>\n",
       "      <td>5.000000</td>\n",
       "      <td>8.825675</td>\n",
       "      <td>14.258040</td>\n",
       "      <td>3.504752</td>\n",
       "      <td>20.211267</td>\n",
       "    </tr>\n",
       "    <tr>\n",
       "      <th>25%</th>\n",
       "      <td>21.000000</td>\n",
       "      <td>28.000000</td>\n",
       "      <td>20.000000</td>\n",
       "      <td>22.769375</td>\n",
       "      <td>60.261953</td>\n",
       "      <td>5.971693</td>\n",
       "      <td>64.551686</td>\n",
       "    </tr>\n",
       "    <tr>\n",
       "      <th>50%</th>\n",
       "      <td>37.000000</td>\n",
       "      <td>51.000000</td>\n",
       "      <td>32.000000</td>\n",
       "      <td>25.598693</td>\n",
       "      <td>80.473146</td>\n",
       "      <td>6.425045</td>\n",
       "      <td>94.867624</td>\n",
       "    </tr>\n",
       "    <tr>\n",
       "      <th>75%</th>\n",
       "      <td>84.250000</td>\n",
       "      <td>68.000000</td>\n",
       "      <td>49.000000</td>\n",
       "      <td>28.561654</td>\n",
       "      <td>89.948771</td>\n",
       "      <td>6.923643</td>\n",
       "      <td>124.267508</td>\n",
       "    </tr>\n",
       "    <tr>\n",
       "      <th>max</th>\n",
       "      <td>140.000000</td>\n",
       "      <td>145.000000</td>\n",
       "      <td>205.000000</td>\n",
       "      <td>43.675493</td>\n",
       "      <td>99.981876</td>\n",
       "      <td>9.935091</td>\n",
       "      <td>298.560117</td>\n",
       "    </tr>\n",
       "  </tbody>\n",
       "</table>\n",
       "</div>"
      ],
      "text/plain": [
       "                 N            P            K  temperature     humidity  \\\n",
       "count  2200.000000  2200.000000  2200.000000  2200.000000  2200.000000   \n",
       "mean     50.551818    53.362727    48.149091    25.616244    71.481779   \n",
       "std      36.917334    32.985883    50.647931     5.063749    22.263812   \n",
       "min       0.000000     5.000000     5.000000     8.825675    14.258040   \n",
       "25%      21.000000    28.000000    20.000000    22.769375    60.261953   \n",
       "50%      37.000000    51.000000    32.000000    25.598693    80.473146   \n",
       "75%      84.250000    68.000000    49.000000    28.561654    89.948771   \n",
       "max     140.000000   145.000000   205.000000    43.675493    99.981876   \n",
       "\n",
       "                ph     rainfall  \n",
       "count  2200.000000  2200.000000  \n",
       "mean      6.469480   103.463655  \n",
       "std       0.773938    54.958389  \n",
       "min       3.504752    20.211267  \n",
       "25%       5.971693    64.551686  \n",
       "50%       6.425045    94.867624  \n",
       "75%       6.923643   124.267508  \n",
       "max       9.935091   298.560117  "
      ]
     },
     "execution_count": 5,
     "metadata": {},
     "output_type": "execute_result"
    }
   ],
   "source": [
    "data.describe()"
   ]
  },
  {
   "cell_type": "code",
   "execution_count": 6,
   "id": "cf508c8c-3f7c-454a-9ba9-58f478b5afd5",
   "metadata": {},
   "outputs": [
    {
     "data": {
      "text/plain": [
       "Index(['N', 'P', 'K', 'temperature', 'humidity', 'ph', 'rainfall', 'label'], dtype='object')"
      ]
     },
     "execution_count": 6,
     "metadata": {},
     "output_type": "execute_result"
    }
   ],
   "source": [
    "data.columns"
   ]
  },
  {
   "cell_type": "code",
   "execution_count": 7,
   "id": "26061eba-f220-477b-b8e4-3d7a54c7f1e5",
   "metadata": {},
   "outputs": [
    {
     "name": "stdout",
     "output_type": "stream",
     "text": [
      "<class 'pandas.core.frame.DataFrame'>\n",
      "RangeIndex: 2200 entries, 0 to 2199\n",
      "Data columns (total 8 columns):\n",
      " #   Column       Non-Null Count  Dtype  \n",
      "---  ------       --------------  -----  \n",
      " 0   N            2200 non-null   int64  \n",
      " 1   P            2200 non-null   int64  \n",
      " 2   K            2200 non-null   int64  \n",
      " 3   temperature  2200 non-null   float64\n",
      " 4   humidity     2200 non-null   float64\n",
      " 5   ph           2200 non-null   float64\n",
      " 6   rainfall     2200 non-null   float64\n",
      " 7   label        2200 non-null   object \n",
      "dtypes: float64(4), int64(3), object(1)\n",
      "memory usage: 137.6+ KB\n"
     ]
    }
   ],
   "source": [
    "data.info()"
   ]
  },
  {
   "cell_type": "code",
   "execution_count": 8,
   "id": "27a6a2d5-7845-4e22-8601-0d9e54d18c21",
   "metadata": {},
   "outputs": [
    {
     "data": {
      "text/plain": [
       "N              0.0\n",
       "P              0.0\n",
       "K              0.0\n",
       "temperature    0.0\n",
       "humidity       0.0\n",
       "ph             0.0\n",
       "rainfall       0.0\n",
       "label          0.0\n",
       "dtype: float64"
      ]
     },
     "execution_count": 8,
     "metadata": {},
     "output_type": "execute_result"
    }
   ],
   "source": [
    "data.isnull().sum()/len(data)*100"
   ]
  },
  {
   "cell_type": "code",
   "execution_count": 9,
   "id": "510a2132-8401-440d-b577-b17b6ba0fa01",
   "metadata": {},
   "outputs": [
    {
     "data": {
      "text/plain": [
       "N              0\n",
       "P              0\n",
       "K              0\n",
       "temperature    0\n",
       "humidity       0\n",
       "ph             0\n",
       "rainfall       0\n",
       "label          0\n",
       "dtype: int64"
      ]
     },
     "execution_count": 9,
     "metadata": {},
     "output_type": "execute_result"
    }
   ],
   "source": [
    "data.isnull().sum()"
   ]
  },
  {
   "cell_type": "markdown",
   "id": "e7906acc-edc5-4920-b9a4-d5ff1a389c50",
   "metadata": {},
   "source": [
    "# EDA"
   ]
  },
  {
   "cell_type": "code",
   "execution_count": 11,
   "id": "29808ce9-fe7a-4532-b164-d1f2f491ad26",
   "metadata": {},
   "outputs": [],
   "source": [
    "train_df=data"
   ]
  },
  {
   "cell_type": "code",
   "execution_count": 12,
   "id": "85e1ec9b-71bd-4848-86a4-6eb6c9457b76",
   "metadata": {},
   "outputs": [],
   "source": [
    "def plot_hist(variable):\n",
    "    plt.figure(figsize = (9,3))\n",
    "    plt.hist(train_df[variable])\n",
    "    plt.xlabel(variable)\n",
    "    plt.ylabel(\"Frequency\")\n",
    "    plt.title(\"{} distribution with hist\".format(variable))\n",
    "    plt.show()"
   ]
  },
  {
   "cell_type": "code",
   "execution_count": 13,
   "id": "f499348d-b36b-4af1-9dd1-b5e153938adc",
   "metadata": {},
   "outputs": [
    {
     "data": {
      "image/png": "[encoded data removed]",
      "text/plain": [
       "<Figure size 900x300 with 1 Axes>"
      ]
     },
     "metadata": {},
     "output_type": "display_data"
    },
    {
     "data": {
      "image/png": "[encoded data removed]",
      "text/plain": [
       "<Figure size 900x300 with 1 Axes>"
      ]
     },
     "metadata": {},
     "output_type": "display_data"
    },
    {
     "data": {
      "image/png": "[encoded data removed]",
      "text/plain": [
       "<Figure size 900x300 with 1 Axes>"
      ]
     },
     "metadata": {},
     "output_type": "display_data"
    },
    {
     "data": {
      "image/png": "[encoded data removed]",
      "text/plain": [
       "<Figure size 900x300 with 1 Axes>"
      ]
     },
     "metadata": {},
     "output_type": "display_data"
    },
    {
     "data": {
      "image/png": "[encoded data removed]",
      "text/plain": [
       "<Figure size 900x300 with 1 Axes>"
      ]
     },
     "metadata": {},
     "output_type": "display_data"
    },
    {
     "data": {
      "image/png": "[encoded data removed]",
      "text/plain": [
       "<Figure size 900x300 with 1 Axes>"
      ]
     },
     "metadata": {},
     "output_type": "display_data"
    },
    {
     "data": {
      "image/png": "[encoded data removed]",
      "text/plain": [
       "<Figure size 900x300 with 1 Axes>"
      ]
     },
     "metadata": {},
     "output_type": "display_data"
    }
   ],
   "source": [
    "numericVar = [\"N\", \"P\",\"K\",\"temperature\",\"humidity\",\"ph\",\"rainfall\"]\n",
    "for n in numericVar:\n",
    "    plot_hist(n)"
   ]
  },
  {
   "cell_type": "markdown",
   "id": "eeeeb96f-d361-4907-9ab6-000ff354e2b3",
   "metadata": {},
   "source": [
    "# Find Outlier"
   ]
  },
  {
   "cell_type": "code",
   "execution_count": 15,
   "id": "9b0972b7-35e4-4037-b8e8-c893f86e5d74",
   "metadata": {},
   "outputs": [
    {
     "data": {
      "text/plain": [
       "Index(['N', 'P', 'K', 'temperature', 'humidity', 'ph', 'rainfall', 'label'], dtype='object')"
      ]
     },
     "execution_count": 15,
     "metadata": {},
     "output_type": "execute_result"
    }
   ],
   "source": [
    "data.columns"
   ]
  },
  {
   "cell_type": "code",
   "execution_count": 16,
   "id": "614bf5ee-f077-41c0-a0e1-4197ed2e8b10",
   "metadata": {},
   "outputs": [
    {
     "data": {
      "text/plain": [
       "count    2200.000000\n",
       "mean       50.551818\n",
       "std        36.917334\n",
       "min         0.000000\n",
       "25%        21.000000\n",
       "50%        37.000000\n",
       "75%        84.250000\n",
       "max       140.000000\n",
       "Name: N, dtype: float64"
      ]
     },
     "execution_count": 16,
     "metadata": {},
     "output_type": "execute_result"
    }
   ],
   "source": [
    "data['N'].describe()"
   ]
  },
  {
   "cell_type": "code",
   "execution_count": 17,
   "id": "c4c8245c-3dc3-4cc0-848b-81e16a6e92e4",
   "metadata": {},
   "outputs": [
    {
     "data": {
      "text/plain": [
       "<Axes: >"
      ]
     },
     "execution_count": 17,
     "metadata": {},
     "output_type": "execute_result"
    },
    {
     "data": {
      "image/png": "[encoded data removed]",
      "text/plain": [
       "<Figure size 640x480 with 1 Axes>"
      ]
     },
     "metadata": {},
     "output_type": "display_data"
    }
   ],
   "source": [
    "data.boxplot(column=['N'], return_type='axes')"
   ]
  },
  {
   "cell_type": "code",
   "execution_count": 18,
   "id": "46ec4225-19c5-46a3-9d7e-304900833d55",
   "metadata": {},
   "outputs": [
    {
     "data": {
      "text/plain": [
       "count    2200.000000\n",
       "mean       53.362727\n",
       "std        32.985883\n",
       "min         5.000000\n",
       "25%        28.000000\n",
       "50%        51.000000\n",
       "75%        68.000000\n",
       "max       145.000000\n",
       "Name: P, dtype: float64"
      ]
     },
     "execution_count": 18,
     "metadata": {},
     "output_type": "execute_result"
    }
   ],
   "source": [
    "data['P'].describe()"
   ]
  },
  {
   "cell_type": "code",
   "execution_count": 19,
   "id": "5865b312-6a58-4389-be6f-5df56f3e91fd",
   "metadata": {},
   "outputs": [
    {
     "data": {
      "text/plain": [
       "<Axes: >"
      ]
     },
     "execution_count": 19,
     "metadata": {},
     "output_type": "execute_result"
    },
    {
     "data": {
      "image/png": "[encoded data removed]",
      "text/plain": [
       "<Figure size 640x480 with 1 Axes>"
      ]
     },
     "metadata": {},
     "output_type": "display_data"
    }
   ],
   "source": [
    "data.boxplot(column=['P'], return_type='axes')"
   ]
  },
  {
   "cell_type": "code",
   "execution_count": 20,
   "id": "91821a14-169b-4502-a18c-9fb3009dd0e9",
   "metadata": {},
   "outputs": [
    {
     "data": {
      "text/html": [
       "<div>\n",
       "<style scoped>\n",
       "    .dataframe tbody tr th:only-of-type {\n",
       "        vertical-align: middle;\n",
       "    }\n",
       "\n",
       "    .dataframe tbody tr th {\n",
       "        vertical-align: top;\n",
       "    }\n",
       "\n",
       "    .dataframe thead th {\n",
       "        text-align: right;\n",
       "    }\n",
       "</style>\n",
       "<table border=\"1\" class=\"dataframe\">\n",
       "  <thead>\n",
       "    <tr style=\"text-align: right;\">\n",
       "      <th></th>\n",
       "      <th>P</th>\n",
       "    </tr>\n",
       "  </thead>\n",
       "  <tbody>\n",
       "    <tr>\n",
       "      <th>0</th>\n",
       "      <td>42</td>\n",
       "    </tr>\n",
       "    <tr>\n",
       "      <th>1</th>\n",
       "      <td>58</td>\n",
       "    </tr>\n",
       "    <tr>\n",
       "      <th>2</th>\n",
       "      <td>55</td>\n",
       "    </tr>\n",
       "    <tr>\n",
       "      <th>3</th>\n",
       "      <td>35</td>\n",
       "    </tr>\n",
       "    <tr>\n",
       "      <th>4</th>\n",
       "      <td>42</td>\n",
       "    </tr>\n",
       "    <tr>\n",
       "      <th>...</th>\n",
       "      <td>...</td>\n",
       "    </tr>\n",
       "    <tr>\n",
       "      <th>2195</th>\n",
       "      <td>34</td>\n",
       "    </tr>\n",
       "    <tr>\n",
       "      <th>2196</th>\n",
       "      <td>15</td>\n",
       "    </tr>\n",
       "    <tr>\n",
       "      <th>2197</th>\n",
       "      <td>33</td>\n",
       "    </tr>\n",
       "    <tr>\n",
       "      <th>2198</th>\n",
       "      <td>32</td>\n",
       "    </tr>\n",
       "    <tr>\n",
       "      <th>2199</th>\n",
       "      <td>18</td>\n",
       "    </tr>\n",
       "  </tbody>\n",
       "</table>\n",
       "<p>2200 rows × 1 columns</p>\n",
       "</div>"
      ],
      "text/plain": [
       "       P\n",
       "0     42\n",
       "1     58\n",
       "2     55\n",
       "3     35\n",
       "4     42\n",
       "...   ..\n",
       "2195  34\n",
       "2196  15\n",
       "2197  33\n",
       "2198  32\n",
       "2199  18\n",
       "\n",
       "[2200 rows x 1 columns]"
      ]
     },
     "execution_count": 20,
     "metadata": {},
     "output_type": "execute_result"
    }
   ],
   "source": [
    "data[['P']]"
   ]
  },
  {
   "cell_type": "code",
   "execution_count": 21,
   "id": "26bd8ac8-86fd-4b08-916b-18a5259123e2",
   "metadata": {},
   "outputs": [],
   "source": [
    "        # 1st quartile\n",
    "        Q1 = np.percentile(data['P'],25)\n",
    "        # 3rd quartile\n",
    "        Q3 = np.percentile(data['P'],75)\n",
    "        # IQR\n",
    "        IQR = Q3 - Q1\n",
    "        # Outlier step\n",
    "        positive_outlier=Q3+1.5*IQR\n",
    "        negative_outlier=Q1-1.5*IQR"
   ]
  },
  {
   "cell_type": "code",
   "execution_count": 22,
   "id": "5062782b-fbc4-4d80-aa6b-ae37cb8d01ee",
   "metadata": {},
   "outputs": [
    {
     "data": {
      "text/plain": [
       "28.0"
      ]
     },
     "execution_count": 22,
     "metadata": {},
     "output_type": "execute_result"
    }
   ],
   "source": [
    "Q1"
   ]
  },
  {
   "cell_type": "code",
   "execution_count": 23,
   "id": "cf20359e-2c52-4846-81d5-839db1bc7adc",
   "metadata": {},
   "outputs": [
    {
     "data": {
      "text/plain": [
       "68.0"
      ]
     },
     "execution_count": 23,
     "metadata": {},
     "output_type": "execute_result"
    }
   ],
   "source": [
    "Q3"
   ]
  },
  {
   "cell_type": "code",
   "execution_count": 24,
   "id": "020cb0b0-4a52-4003-8f89-0e2d33229dd7",
   "metadata": {},
   "outputs": [
    {
     "data": {
      "text/plain": [
       "40.0"
      ]
     },
     "execution_count": 24,
     "metadata": {},
     "output_type": "execute_result"
    }
   ],
   "source": [
    "IQR"
   ]
  },
  {
   "cell_type": "code",
   "execution_count": 25,
   "id": "687ee264-b4f4-468c-960e-7d3ce6982aad",
   "metadata": {},
   "outputs": [
    {
     "data": {
      "text/plain": [
       "128.0"
      ]
     },
     "execution_count": 25,
     "metadata": {},
     "output_type": "execute_result"
    }
   ],
   "source": [
    "positive_outlier"
   ]
  },
  {
   "cell_type": "code",
   "execution_count": 26,
   "id": "ed5e4df6-2ffd-4588-8c22-5c2b8a404f9c",
   "metadata": {},
   "outputs": [
    {
     "data": {
      "text/plain": [
       "-32.0"
      ]
     },
     "execution_count": 26,
     "metadata": {},
     "output_type": "execute_result"
    }
   ],
   "source": [
    "negative_outlier"
   ]
  },
  {
   "cell_type": "code",
   "execution_count": 27,
   "id": "73cfa4a4-01e2-4c8c-a778-833577a4ab44",
   "metadata": {},
   "outputs": [
    {
     "data": {
      "text/plain": [
       "145"
      ]
     },
     "execution_count": 27,
     "metadata": {},
     "output_type": "execute_result"
    }
   ],
   "source": [
    "data['P'].max()"
   ]
  },
  {
   "cell_type": "code",
   "execution_count": 28,
   "id": "2d0334f5-3808-4b9d-bf64-9aca44590b57",
   "metadata": {},
   "outputs": [
    {
     "data": {
      "text/plain": [
       "144"
      ]
     },
     "execution_count": 28,
     "metadata": {},
     "output_type": "execute_result"
    }
   ],
   "source": [
    "len(data[data['P']>=128])   # len of outlier"
   ]
  },
  {
   "cell_type": "code",
   "execution_count": 29,
   "id": "2c280ba2-65d4-4ba9-bd39-8a337773bd52",
   "metadata": {},
   "outputs": [],
   "source": [
    "new_data=data[data['P']<positive_outlier]"
   ]
  },
  {
   "cell_type": "code",
   "execution_count": 30,
   "id": "5d491366-6eeb-4310-a7a8-781e7d73b695",
   "metadata": {},
   "outputs": [
    {
     "data": {
      "image/png": "[encoded data removed]",
      "text/plain": [
       "<Figure size 640x480 with 1 Axes>"
      ]
     },
     "metadata": {},
     "output_type": "display_data"
    }
   ],
   "source": [
    "plt.hist(new_data['P'])\n",
    "plt.show()"
   ]
  },
  {
   "cell_type": "code",
   "execution_count": 31,
   "id": "1b155988-756e-4e18-9e31-4f9cca55bcdb",
   "metadata": {},
   "outputs": [
    {
     "name": "stdout",
     "output_type": "stream",
     "text": [
      "<class 'pandas.core.frame.DataFrame'>\n",
      "RangeIndex: 2200 entries, 0 to 2199\n",
      "Data columns (total 8 columns):\n",
      " #   Column       Non-Null Count  Dtype  \n",
      "---  ------       --------------  -----  \n",
      " 0   N            2200 non-null   int64  \n",
      " 1   P            2200 non-null   int64  \n",
      " 2   K            2200 non-null   int64  \n",
      " 3   temperature  2200 non-null   float64\n",
      " 4   humidity     2200 non-null   float64\n",
      " 5   ph           2200 non-null   float64\n",
      " 6   rainfall     2200 non-null   float64\n",
      " 7   label        2200 non-null   object \n",
      "dtypes: float64(4), int64(3), object(1)\n",
      "memory usage: 137.6+ KB\n"
     ]
    }
   ],
   "source": [
    "data.info()"
   ]
  },
  {
   "cell_type": "code",
   "execution_count": 32,
   "id": "5390d1dd-a412-4bc7-816f-e4dc35bc69e6",
   "metadata": {},
   "outputs": [
    {
     "name": "stdout",
     "output_type": "stream",
     "text": [
      "<class 'pandas.core.frame.DataFrame'>\n",
      "Index: 2056 entries, 0 to 2199\n",
      "Data columns (total 8 columns):\n",
      " #   Column       Non-Null Count  Dtype  \n",
      "---  ------       --------------  -----  \n",
      " 0   N            2056 non-null   int64  \n",
      " 1   P            2056 non-null   int64  \n",
      " 2   K            2056 non-null   int64  \n",
      " 3   temperature  2056 non-null   float64\n",
      " 4   humidity     2056 non-null   float64\n",
      " 5   ph           2056 non-null   float64\n",
      " 6   rainfall     2056 non-null   float64\n",
      " 7   label        2056 non-null   object \n",
      "dtypes: float64(4), int64(3), object(1)\n",
      "memory usage: 144.6+ KB\n"
     ]
    }
   ],
   "source": [
    "new_data.info()"
   ]
  },
  {
   "cell_type": "code",
   "execution_count": 33,
   "id": "f66c726a-39a8-4816-af9e-b100af404c93",
   "metadata": {},
   "outputs": [
    {
     "data": {
      "text/plain": [
       "count    2056.000000\n",
       "mean       37.519942\n",
       "std        31.895276\n",
       "min         5.000000\n",
       "25%        20.000000\n",
       "50%        30.000000\n",
       "75%        46.000000\n",
       "max       205.000000\n",
       "Name: K, dtype: float64"
      ]
     },
     "execution_count": 33,
     "metadata": {},
     "output_type": "execute_result"
    }
   ],
   "source": [
    "new_data['K'].describe()"
   ]
  },
  {
   "cell_type": "code",
   "execution_count": 34,
   "id": "c4dc47b2-b074-4e04-8222-b35184811cf3",
   "metadata": {},
   "outputs": [
    {
     "data": {
      "text/plain": [
       "<Axes: >"
      ]
     },
     "execution_count": 34,
     "metadata": {},
     "output_type": "execute_result"
    },
    {
     "data": {
      "image/png": "[encoded data removed]",
      "text/plain": [
       "<Figure size 640x480 with 1 Axes>"
      ]
     },
     "metadata": {},
     "output_type": "display_data"
    }
   ],
   "source": [
    "new_data.boxplot(column=['K'], return_type='axes')"
   ]
  },
  {
   "cell_type": "code",
   "execution_count": 35,
   "id": "8d3590e9-ab6e-43e6-b9cd-51f9861aee1a",
   "metadata": {},
   "outputs": [
    {
     "data": {
      "text/html": [
       "<div>\n",
       "<style scoped>\n",
       "    .dataframe tbody tr th:only-of-type {\n",
       "        vertical-align: middle;\n",
       "    }\n",
       "\n",
       "    .dataframe tbody tr th {\n",
       "        vertical-align: top;\n",
       "    }\n",
       "\n",
       "    .dataframe thead th {\n",
       "        text-align: right;\n",
       "    }\n",
       "</style>\n",
       "<table border=\"1\" class=\"dataframe\">\n",
       "  <thead>\n",
       "    <tr style=\"text-align: right;\">\n",
       "      <th></th>\n",
       "      <th>K</th>\n",
       "    </tr>\n",
       "  </thead>\n",
       "  <tbody>\n",
       "    <tr>\n",
       "      <th>0</th>\n",
       "      <td>43</td>\n",
       "    </tr>\n",
       "    <tr>\n",
       "      <th>1</th>\n",
       "      <td>41</td>\n",
       "    </tr>\n",
       "    <tr>\n",
       "      <th>2</th>\n",
       "      <td>44</td>\n",
       "    </tr>\n",
       "    <tr>\n",
       "      <th>3</th>\n",
       "      <td>40</td>\n",
       "    </tr>\n",
       "    <tr>\n",
       "      <th>4</th>\n",
       "      <td>42</td>\n",
       "    </tr>\n",
       "    <tr>\n",
       "      <th>...</th>\n",
       "      <td>...</td>\n",
       "    </tr>\n",
       "    <tr>\n",
       "      <th>2195</th>\n",
       "      <td>32</td>\n",
       "    </tr>\n",
       "    <tr>\n",
       "      <th>2196</th>\n",
       "      <td>27</td>\n",
       "    </tr>\n",
       "    <tr>\n",
       "      <th>2197</th>\n",
       "      <td>30</td>\n",
       "    </tr>\n",
       "    <tr>\n",
       "      <th>2198</th>\n",
       "      <td>34</td>\n",
       "    </tr>\n",
       "    <tr>\n",
       "      <th>2199</th>\n",
       "      <td>30</td>\n",
       "    </tr>\n",
       "  </tbody>\n",
       "</table>\n",
       "<p>2056 rows × 1 columns</p>\n",
       "</div>"
      ],
      "text/plain": [
       "       K\n",
       "0     43\n",
       "1     41\n",
       "2     44\n",
       "3     40\n",
       "4     42\n",
       "...   ..\n",
       "2195  32\n",
       "2196  27\n",
       "2197  30\n",
       "2198  34\n",
       "2199  30\n",
       "\n",
       "[2056 rows x 1 columns]"
      ]
     },
     "execution_count": 35,
     "metadata": {},
     "output_type": "execute_result"
    }
   ],
   "source": [
    "new_data[['K']]"
   ]
  },
  {
   "cell_type": "code",
   "execution_count": 36,
   "id": "da3c309c-55ea-4e41-b4ba-96aba442f1c4",
   "metadata": {},
   "outputs": [],
   "source": [
    "        # 1st quartile\n",
    "        Q1 = np.percentile(new_data['K'],25)\n",
    "        # 3rd quartile\n",
    "        Q3 = np.percentile(new_data['K'],75)\n",
    "        # IQR\n",
    "        IQR = Q3 - Q1\n",
    "        # Outlier step\n",
    "        positive_outlier=Q3+1.5*IQR\n",
    "        negative_outlier=Q1-1.5*IQR"
   ]
  },
  {
   "cell_type": "code",
   "execution_count": 37,
   "id": "a60a0931-62ff-4960-bdb4-1281ff4b4673",
   "metadata": {},
   "outputs": [
    {
     "data": {
      "text/plain": [
       "20.0"
      ]
     },
     "execution_count": 37,
     "metadata": {},
     "output_type": "execute_result"
    }
   ],
   "source": [
    "Q1"
   ]
  },
  {
   "cell_type": "code",
   "execution_count": 38,
   "id": "4f8c9744-22a7-4da5-878f-2731c2cd5941",
   "metadata": {},
   "outputs": [
    {
     "data": {
      "text/plain": [
       "46.0"
      ]
     },
     "execution_count": 38,
     "metadata": {},
     "output_type": "execute_result"
    }
   ],
   "source": [
    "Q3"
   ]
  },
  {
   "cell_type": "code",
   "execution_count": 39,
   "id": "73086279-5fb0-4455-981a-cdbc7c46663e",
   "metadata": {},
   "outputs": [
    {
     "data": {
      "text/plain": [
       "26.0"
      ]
     },
     "execution_count": 39,
     "metadata": {},
     "output_type": "execute_result"
    }
   ],
   "source": [
    "IQR"
   ]
  },
  {
   "cell_type": "code",
   "execution_count": 40,
   "id": "cc954ddf-ac82-4f49-9379-5dcbc19f0cee",
   "metadata": {},
   "outputs": [
    {
     "data": {
      "text/plain": [
       "85.0"
      ]
     },
     "execution_count": 40,
     "metadata": {},
     "output_type": "execute_result"
    }
   ],
   "source": [
    "positive_outlier"
   ]
  },
  {
   "cell_type": "code",
   "execution_count": 41,
   "id": "f89c80ce-c5cb-45db-948d-79b13b50e421",
   "metadata": {},
   "outputs": [
    {
     "data": {
      "text/plain": [
       "-19.0"
      ]
     },
     "execution_count": 41,
     "metadata": {},
     "output_type": "execute_result"
    }
   ],
   "source": [
    "negative_outlier"
   ]
  },
  {
   "cell_type": "code",
   "execution_count": 42,
   "id": "161fd75a-e2ae-45ae-8bd0-c4066684ae00",
   "metadata": {},
   "outputs": [
    {
     "data": {
      "text/plain": [
       "205"
      ]
     },
     "execution_count": 42,
     "metadata": {},
     "output_type": "execute_result"
    }
   ],
   "source": [
    "new_data['K'].max()"
   ]
  },
  {
   "cell_type": "code",
   "execution_count": 43,
   "id": "d10bc048-6247-41f1-b1f4-8fcf216ec54b",
   "metadata": {},
   "outputs": [
    {
     "data": {
      "text/plain": [
       "68"
      ]
     },
     "execution_count": 43,
     "metadata": {},
     "output_type": "execute_result"
    }
   ],
   "source": [
    "len(new_data[new_data['K']>=positive_outlier])   # len of outlier"
   ]
  },
  {
   "cell_type": "code",
   "execution_count": 44,
   "id": "d02c3887-da73-4add-a529-1a9eeed6905d",
   "metadata": {},
   "outputs": [],
   "source": [
    "new_data1=new_data[new_data['K']<positive_outlier]"
   ]
  },
  {
   "cell_type": "code",
   "execution_count": 45,
   "id": "b6d5c1d7-4391-48e0-aa7b-2c2d8e98baac",
   "metadata": {},
   "outputs": [
    {
     "data": {
      "image/png": "[encoded data removed]",
      "text/plain": [
       "<Figure size 640x480 with 1 Axes>"
      ]
     },
     "metadata": {},
     "output_type": "display_data"
    }
   ],
   "source": [
    "plt.hist(new_data1['K'])\n",
    "plt.show()"
   ]
  },
  {
   "cell_type": "code",
   "execution_count": 46,
   "id": "58ed4403-6307-435a-9c94-bb17d9d00d37",
   "metadata": {},
   "outputs": [
    {
     "name": "stdout",
     "output_type": "stream",
     "text": [
      "<class 'pandas.core.frame.DataFrame'>\n",
      "Index: 2056 entries, 0 to 2199\n",
      "Data columns (total 8 columns):\n",
      " #   Column       Non-Null Count  Dtype  \n",
      "---  ------       --------------  -----  \n",
      " 0   N            2056 non-null   int64  \n",
      " 1   P            2056 non-null   int64  \n",
      " 2   K            2056 non-null   int64  \n",
      " 3   temperature  2056 non-null   float64\n",
      " 4   humidity     2056 non-null   float64\n",
      " 5   ph           2056 non-null   float64\n",
      " 6   rainfall     2056 non-null   float64\n",
      " 7   label        2056 non-null   object \n",
      "dtypes: float64(4), int64(3), object(1)\n",
      "memory usage: 144.6+ KB\n"
     ]
    }
   ],
   "source": [
    "new_data.info()"
   ]
  },
  {
   "cell_type": "code",
   "execution_count": 47,
   "id": "a732d181-4cd2-44ad-b093-da9552787dae",
   "metadata": {},
   "outputs": [
    {
     "name": "stdout",
     "output_type": "stream",
     "text": [
      "<class 'pandas.core.frame.DataFrame'>\n",
      "Index: 1988 entries, 0 to 2199\n",
      "Data columns (total 8 columns):\n",
      " #   Column       Non-Null Count  Dtype  \n",
      "---  ------       --------------  -----  \n",
      " 0   N            1988 non-null   int64  \n",
      " 1   P            1988 non-null   int64  \n",
      " 2   K            1988 non-null   int64  \n",
      " 3   temperature  1988 non-null   float64\n",
      " 4   humidity     1988 non-null   float64\n",
      " 5   ph           1988 non-null   float64\n",
      " 6   rainfall     1988 non-null   float64\n",
      " 7   label        1988 non-null   object \n",
      "dtypes: float64(4), int64(3), object(1)\n",
      "memory usage: 139.8+ KB\n"
     ]
    }
   ],
   "source": [
    "new_data1.info()"
   ]
  },
  {
   "cell_type": "code",
   "execution_count": 48,
   "id": "7082b6c4-1390-4640-ac23-16f6870a2389",
   "metadata": {},
   "outputs": [
    {
     "data": {
      "text/plain": [
       "count    1988.000000\n",
       "mean       25.895469\n",
       "std         4.759995\n",
       "min        10.010813\n",
       "25%        23.262971\n",
       "50%        25.899377\n",
       "75%        28.660397\n",
       "max        43.675493\n",
       "Name: temperature, dtype: float64"
      ]
     },
     "execution_count": 48,
     "metadata": {},
     "output_type": "execute_result"
    }
   ],
   "source": [
    "new_data1['temperature'].describe()"
   ]
  },
  {
   "cell_type": "code",
   "execution_count": 49,
   "id": "03f2274a-b821-4870-90bb-baf750599703",
   "metadata": {},
   "outputs": [
    {
     "data": {
      "text/plain": [
       "<Axes: >"
      ]
     },
     "execution_count": 49,
     "metadata": {},
     "output_type": "execute_result"
    },
    {
     "data": {
      "image/png": "[encoded data removed]",
      "text/plain": [
       "<Figure size 640x480 with 1 Axes>"
      ]
     },
     "metadata": {},
     "output_type": "display_data"
    }
   ],
   "source": [
    "new_data1.boxplot(column=['temperature'], return_type='axes')"
   ]
  },
  {
   "cell_type": "code",
   "execution_count": 50,
   "id": "baa6d45f-3977-450e-b157-3b77dae6fb26",
   "metadata": {},
   "outputs": [
    {
     "data": {
      "text/html": [
       "<div>\n",
       "<style scoped>\n",
       "    .dataframe tbody tr th:only-of-type {\n",
       "        vertical-align: middle;\n",
       "    }\n",
       "\n",
       "    .dataframe tbody tr th {\n",
       "        vertical-align: top;\n",
       "    }\n",
       "\n",
       "    .dataframe thead th {\n",
       "        text-align: right;\n",
       "    }\n",
       "</style>\n",
       "<table border=\"1\" class=\"dataframe\">\n",
       "  <thead>\n",
       "    <tr style=\"text-align: right;\">\n",
       "      <th></th>\n",
       "      <th>temperature</th>\n",
       "    </tr>\n",
       "  </thead>\n",
       "  <tbody>\n",
       "    <tr>\n",
       "      <th>0</th>\n",
       "      <td>20.879744</td>\n",
       "    </tr>\n",
       "    <tr>\n",
       "      <th>1</th>\n",
       "      <td>21.770462</td>\n",
       "    </tr>\n",
       "    <tr>\n",
       "      <th>2</th>\n",
       "      <td>23.004459</td>\n",
       "    </tr>\n",
       "    <tr>\n",
       "      <th>3</th>\n",
       "      <td>26.491096</td>\n",
       "    </tr>\n",
       "    <tr>\n",
       "      <th>4</th>\n",
       "      <td>20.130175</td>\n",
       "    </tr>\n",
       "    <tr>\n",
       "      <th>...</th>\n",
       "      <td>...</td>\n",
       "    </tr>\n",
       "    <tr>\n",
       "      <th>2195</th>\n",
       "      <td>26.774637</td>\n",
       "    </tr>\n",
       "    <tr>\n",
       "      <th>2196</th>\n",
       "      <td>27.417112</td>\n",
       "    </tr>\n",
       "    <tr>\n",
       "      <th>2197</th>\n",
       "      <td>24.131797</td>\n",
       "    </tr>\n",
       "    <tr>\n",
       "      <th>2198</th>\n",
       "      <td>26.272418</td>\n",
       "    </tr>\n",
       "    <tr>\n",
       "      <th>2199</th>\n",
       "      <td>23.603016</td>\n",
       "    </tr>\n",
       "  </tbody>\n",
       "</table>\n",
       "<p>1988 rows × 1 columns</p>\n",
       "</div>"
      ],
      "text/plain": [
       "      temperature\n",
       "0       20.879744\n",
       "1       21.770462\n",
       "2       23.004459\n",
       "3       26.491096\n",
       "4       20.130175\n",
       "...           ...\n",
       "2195    26.774637\n",
       "2196    27.417112\n",
       "2197    24.131797\n",
       "2198    26.272418\n",
       "2199    23.603016\n",
       "\n",
       "[1988 rows x 1 columns]"
      ]
     },
     "execution_count": 50,
     "metadata": {},
     "output_type": "execute_result"
    }
   ],
   "source": [
    "new_data1[['temperature']]"
   ]
  },
  {
   "cell_type": "code",
   "execution_count": 51,
   "id": "5a2246df-c6ef-470e-8f5b-213292bd70b2",
   "metadata": {},
   "outputs": [],
   "source": [
    "        # 1st quartile\n",
    "        Q1 = np.percentile(new_data1['temperature'],25)\n",
    "        # 3rd quartile\n",
    "        Q3 = np.percentile(new_data1['temperature'],75)\n",
    "        # IQR\n",
    "        IQR = Q3 - Q1\n",
    "        # Outlier step\n",
    "        positive_outlier=Q3+1.5*IQR\n",
    "        negative_outlier=Q1-1.5*IQR"
   ]
  },
  {
   "cell_type": "code",
   "execution_count": 52,
   "id": "191f781f-b299-413c-9cbe-ec3ab0aa17ba",
   "metadata": {},
   "outputs": [
    {
     "data": {
      "text/plain": [
       "23.262971462499998"
      ]
     },
     "execution_count": 52,
     "metadata": {},
     "output_type": "execute_result"
    }
   ],
   "source": [
    "Q1"
   ]
  },
  {
   "cell_type": "code",
   "execution_count": 53,
   "id": "316976f8-9b36-4ec5-90fa-dd19ba15722d",
   "metadata": {},
   "outputs": [
    {
     "data": {
      "text/plain": [
       "28.660397275"
      ]
     },
     "execution_count": 53,
     "metadata": {},
     "output_type": "execute_result"
    }
   ],
   "source": [
    "Q3"
   ]
  },
  {
   "cell_type": "code",
   "execution_count": 54,
   "id": "edcebe8b-0b2a-4374-82ed-faff7b4e4904",
   "metadata": {},
   "outputs": [
    {
     "data": {
      "text/plain": [
       "5.397425812500003"
      ]
     },
     "execution_count": 54,
     "metadata": {},
     "output_type": "execute_result"
    }
   ],
   "source": [
    "IQR"
   ]
  },
  {
   "cell_type": "code",
   "execution_count": 55,
   "id": "d2ac2b37-3051-4d45-a46b-94796dfb076a",
   "metadata": {},
   "outputs": [
    {
     "data": {
      "text/plain": [
       "36.756535993750006"
      ]
     },
     "execution_count": 55,
     "metadata": {},
     "output_type": "execute_result"
    }
   ],
   "source": [
    "positive_outlier"
   ]
  },
  {
   "cell_type": "code",
   "execution_count": 56,
   "id": "10140180-b115-4cb5-9b8a-69670fb44ceb",
   "metadata": {},
   "outputs": [
    {
     "data": {
      "text/plain": [
       "15.166832743749993"
      ]
     },
     "execution_count": 56,
     "metadata": {},
     "output_type": "execute_result"
    }
   ],
   "source": [
    "negative_outlier"
   ]
  },
  {
   "cell_type": "code",
   "execution_count": 57,
   "id": "7a000cae-6af4-46d0-a970-3c315dd239d3",
   "metadata": {},
   "outputs": [
    {
     "data": {
      "text/plain": [
       "43.67549305"
      ]
     },
     "execution_count": 57,
     "metadata": {},
     "output_type": "execute_result"
    }
   ],
   "source": [
    "new_data1['temperature'].max()"
   ]
  },
  {
   "cell_type": "code",
   "execution_count": 58,
   "id": "77c28712-109c-481f-b0cf-ce00056207eb",
   "metadata": {},
   "outputs": [
    {
     "data": {
      "text/plain": [
       "39"
      ]
     },
     "execution_count": 58,
     "metadata": {},
     "output_type": "execute_result"
    }
   ],
   "source": [
    "len(new_data1[new_data1['temperature']>=positive_outlier])   # len of outlier"
   ]
  },
  {
   "cell_type": "code",
   "execution_count": 59,
   "id": "49764146-57a2-4ed5-adc9-7972d5f7c11c",
   "metadata": {},
   "outputs": [
    {
     "data": {
      "text/plain": [
       "1969"
      ]
     },
     "execution_count": 59,
     "metadata": {},
     "output_type": "execute_result"
    }
   ],
   "source": [
    "len(new_data1[new_data1['temperature']>=negative_outlier])   # len of outlier"
   ]
  },
  {
   "cell_type": "code",
   "execution_count": 60,
   "id": "e55a642f-e734-4b9c-824a-c8f388ba28ab",
   "metadata": {},
   "outputs": [],
   "source": [
    "new_data2=new_data1[(new_data1['temperature']>=negative_outlier) & (new_data1['temperature']<=positive_outlier)]"
   ]
  },
  {
   "cell_type": "code",
   "execution_count": 61,
   "id": "c125b9ce-41c7-4339-9477-9c76d773370b",
   "metadata": {},
   "outputs": [
    {
     "data": {
      "image/png": "[encoded data removed]",
      "text/plain": [
       "<Figure size 640x480 with 1 Axes>"
      ]
     },
     "metadata": {},
     "output_type": "display_data"
    }
   ],
   "source": [
    "plt.hist(new_data2['temperature'])\n",
    "plt.show()"
   ]
  },
  {
   "cell_type": "code",
   "execution_count": 62,
   "id": "97b0afc3-5d9e-40f0-8a6b-5a3edf1e2e59",
   "metadata": {},
   "outputs": [
    {
     "name": "stdout",
     "output_type": "stream",
     "text": [
      "<class 'pandas.core.frame.DataFrame'>\n",
      "Index: 1988 entries, 0 to 2199\n",
      "Data columns (total 8 columns):\n",
      " #   Column       Non-Null Count  Dtype  \n",
      "---  ------       --------------  -----  \n",
      " 0   N            1988 non-null   int64  \n",
      " 1   P            1988 non-null   int64  \n",
      " 2   K            1988 non-null   int64  \n",
      " 3   temperature  1988 non-null   float64\n",
      " 4   humidity     1988 non-null   float64\n",
      " 5   ph           1988 non-null   float64\n",
      " 6   rainfall     1988 non-null   float64\n",
      " 7   label        1988 non-null   object \n",
      "dtypes: float64(4), int64(3), object(1)\n",
      "memory usage: 139.8+ KB\n"
     ]
    }
   ],
   "source": [
    "new_data1.info()"
   ]
  },
  {
   "cell_type": "code",
   "execution_count": 63,
   "id": "cebacb22-dd8e-4836-8491-4282959ac4b0",
   "metadata": {},
   "outputs": [
    {
     "name": "stdout",
     "output_type": "stream",
     "text": [
      "<class 'pandas.core.frame.DataFrame'>\n",
      "Index: 1930 entries, 0 to 2199\n",
      "Data columns (total 8 columns):\n",
      " #   Column       Non-Null Count  Dtype  \n",
      "---  ------       --------------  -----  \n",
      " 0   N            1930 non-null   int64  \n",
      " 1   P            1930 non-null   int64  \n",
      " 2   K            1930 non-null   int64  \n",
      " 3   temperature  1930 non-null   float64\n",
      " 4   humidity     1930 non-null   float64\n",
      " 5   ph           1930 non-null   float64\n",
      " 6   rainfall     1930 non-null   float64\n",
      " 7   label        1930 non-null   object \n",
      "dtypes: float64(4), int64(3), object(1)\n",
      "memory usage: 135.7+ KB\n"
     ]
    }
   ],
   "source": [
    "new_data2.info()"
   ]
  },
  {
   "cell_type": "code",
   "execution_count": 64,
   "id": "91d09180-b0d8-42f6-910f-743afb6cbf19",
   "metadata": {},
   "outputs": [
    {
     "data": {
      "text/plain": [
       "count    1930.000000\n",
       "mean       69.622102\n",
       "std        22.385849\n",
       "min        14.258040\n",
       "25%        57.215855\n",
       "50%        77.124650\n",
       "75%        87.734138\n",
       "max        99.981876\n",
       "Name: humidity, dtype: float64"
      ]
     },
     "execution_count": 64,
     "metadata": {},
     "output_type": "execute_result"
    }
   ],
   "source": [
    "new_data2['humidity'].describe()"
   ]
  },
  {
   "cell_type": "code",
   "execution_count": 65,
   "id": "34d98e1b-c0d5-44b8-9e9a-e8f039e54dee",
   "metadata": {},
   "outputs": [
    {
     "data": {
      "text/plain": [
       "<Axes: >"
      ]
     },
     "execution_count": 65,
     "metadata": {},
     "output_type": "execute_result"
    },
    {
     "data": {
      "image/png": "[encoded data removed]",
      "text/plain": [
       "<Figure size 640x480 with 1 Axes>"
      ]
     },
     "metadata": {},
     "output_type": "display_data"
    }
   ],
   "source": [
    "new_data2.boxplot(column=['humidity'], return_type='axes')"
   ]
  },
  {
   "cell_type": "code",
   "execution_count": 66,
   "id": "9d707503-cdd1-41c2-a3fc-2469037f40d6",
   "metadata": {},
   "outputs": [
    {
     "data": {
      "text/plain": [
       "count    1930.000000\n",
       "mean        6.508354\n",
       "std         0.795889\n",
       "min         3.504752\n",
       "25%         6.019641\n",
       "50%         6.473400\n",
       "75%         6.970616\n",
       "max         9.935091\n",
       "Name: ph, dtype: float64"
      ]
     },
     "execution_count": 66,
     "metadata": {},
     "output_type": "execute_result"
    }
   ],
   "source": [
    "new_data2['ph'].describe()"
   ]
  },
  {
   "cell_type": "code",
   "execution_count": 67,
   "id": "cfcb822f-4d45-4cec-84e5-0fc3b21ef7d8",
   "metadata": {},
   "outputs": [
    {
     "data": {
      "text/plain": [
       "<Axes: >"
      ]
     },
     "execution_count": 67,
     "metadata": {},
     "output_type": "execute_result"
    },
    {
     "data": {
      "image/png": "[encoded data removed]",
      "text/plain": [
       "<Figure size 640x480 with 1 Axes>"
      ]
     },
     "metadata": {},
     "output_type": "display_data"
    }
   ],
   "source": [
    "new_data2.boxplot(column=['ph'], return_type='axes')"
   ]
  },
  {
   "cell_type": "code",
   "execution_count": 68,
   "id": "d7a0ddfa-42ef-4665-9ead-cdafa0179537",
   "metadata": {},
   "outputs": [
    {
     "data": {
      "text/html": [
       "<div>\n",
       "<style scoped>\n",
       "    .dataframe tbody tr th:only-of-type {\n",
       "        vertical-align: middle;\n",
       "    }\n",
       "\n",
       "    .dataframe tbody tr th {\n",
       "        vertical-align: top;\n",
       "    }\n",
       "\n",
       "    .dataframe thead th {\n",
       "        text-align: right;\n",
       "    }\n",
       "</style>\n",
       "<table border=\"1\" class=\"dataframe\">\n",
       "  <thead>\n",
       "    <tr style=\"text-align: right;\">\n",
       "      <th></th>\n",
       "      <th>ph</th>\n",
       "    </tr>\n",
       "  </thead>\n",
       "  <tbody>\n",
       "    <tr>\n",
       "      <th>0</th>\n",
       "      <td>6.502985</td>\n",
       "    </tr>\n",
       "    <tr>\n",
       "      <th>1</th>\n",
       "      <td>7.038096</td>\n",
       "    </tr>\n",
       "    <tr>\n",
       "      <th>2</th>\n",
       "      <td>7.840207</td>\n",
       "    </tr>\n",
       "    <tr>\n",
       "      <th>3</th>\n",
       "      <td>6.980401</td>\n",
       "    </tr>\n",
       "    <tr>\n",
       "      <th>4</th>\n",
       "      <td>7.628473</td>\n",
       "    </tr>\n",
       "    <tr>\n",
       "      <th>...</th>\n",
       "      <td>...</td>\n",
       "    </tr>\n",
       "    <tr>\n",
       "      <th>2195</th>\n",
       "      <td>6.780064</td>\n",
       "    </tr>\n",
       "    <tr>\n",
       "      <th>2196</th>\n",
       "      <td>6.086922</td>\n",
       "    </tr>\n",
       "    <tr>\n",
       "      <th>2197</th>\n",
       "      <td>6.362608</td>\n",
       "    </tr>\n",
       "    <tr>\n",
       "      <th>2198</th>\n",
       "      <td>6.758793</td>\n",
       "    </tr>\n",
       "    <tr>\n",
       "      <th>2199</th>\n",
       "      <td>6.779833</td>\n",
       "    </tr>\n",
       "  </tbody>\n",
       "</table>\n",
       "<p>1930 rows × 1 columns</p>\n",
       "</div>"
      ],
      "text/plain": [
       "            ph\n",
       "0     6.502985\n",
       "1     7.038096\n",
       "2     7.840207\n",
       "3     6.980401\n",
       "4     7.628473\n",
       "...        ...\n",
       "2195  6.780064\n",
       "2196  6.086922\n",
       "2197  6.362608\n",
       "2198  6.758793\n",
       "2199  6.779833\n",
       "\n",
       "[1930 rows x 1 columns]"
      ]
     },
     "execution_count": 68,
     "metadata": {},
     "output_type": "execute_result"
    }
   ],
   "source": [
    "new_data2[['ph']]"
   ]
  },
  {
   "cell_type": "code",
   "execution_count": 69,
   "id": "454e0f9e-fa56-49b6-831c-098e669a005c",
   "metadata": {},
   "outputs": [],
   "source": [
    "        # 1st quartile\n",
    "        Q1 = np.percentile(new_data2['ph'],25)\n",
    "        # 3rd quartile\n",
    "        Q3 = np.percentile(new_data2['ph'],75)\n",
    "        # IQR\n",
    "        IQR = Q3 - Q1\n",
    "        # Outlier step\n",
    "        positive_outlier=Q3+1.5*IQR\n",
    "        negative_outlier=Q1-1.5*IQR"
   ]
  },
  {
   "cell_type": "code",
   "execution_count": 70,
   "id": "3d1eba11-24e8-470b-a866-906a6b966d8b",
   "metadata": {},
   "outputs": [
    {
     "data": {
      "text/plain": [
       "6.0196406735000005"
      ]
     },
     "execution_count": 70,
     "metadata": {},
     "output_type": "execute_result"
    }
   ],
   "source": [
    "Q1"
   ]
  },
  {
   "cell_type": "code",
   "execution_count": 71,
   "id": "dd8d2a6d-8ea1-4d74-a942-cee0ce9d4eb2",
   "metadata": {},
   "outputs": [
    {
     "data": {
      "text/plain": [
       "6.9706156862499995"
      ]
     },
     "execution_count": 71,
     "metadata": {},
     "output_type": "execute_result"
    }
   ],
   "source": [
    "Q3"
   ]
  },
  {
   "cell_type": "code",
   "execution_count": 72,
   "id": "96b4919d-c90c-4034-aef0-3a695973117a",
   "metadata": {},
   "outputs": [
    {
     "data": {
      "text/plain": [
       "0.950975012749999"
      ]
     },
     "execution_count": 72,
     "metadata": {},
     "output_type": "execute_result"
    }
   ],
   "source": [
    "IQR"
   ]
  },
  {
   "cell_type": "code",
   "execution_count": 73,
   "id": "e2e81f12-ce2c-4aeb-beb3-72791c752d35",
   "metadata": {},
   "outputs": [
    {
     "data": {
      "text/plain": [
       "8.397078205374997"
      ]
     },
     "execution_count": 73,
     "metadata": {},
     "output_type": "execute_result"
    }
   ],
   "source": [
    "positive_outlier"
   ]
  },
  {
   "cell_type": "code",
   "execution_count": 74,
   "id": "72e993f2-a024-4900-9860-7c3ede3e0eb2",
   "metadata": {},
   "outputs": [
    {
     "data": {
      "text/plain": [
       "4.593178154375002"
      ]
     },
     "execution_count": 74,
     "metadata": {},
     "output_type": "execute_result"
    }
   ],
   "source": [
    "negative_outlier"
   ]
  },
  {
   "cell_type": "code",
   "execution_count": 75,
   "id": "7d1c9ea1-6902-44e0-8ae8-ff7c2348754b",
   "metadata": {},
   "outputs": [
    {
     "data": {
      "text/plain": [
       "9.93509073"
      ]
     },
     "execution_count": 75,
     "metadata": {},
     "output_type": "execute_result"
    }
   ],
   "source": [
    "new_data2['ph'].max()"
   ]
  },
  {
   "cell_type": "code",
   "execution_count": 76,
   "id": "dde5c2e6-fed1-45f9-bd8f-429d57707fb8",
   "metadata": {},
   "outputs": [
    {
     "data": {
      "text/plain": [
       "36"
      ]
     },
     "execution_count": 76,
     "metadata": {},
     "output_type": "execute_result"
    }
   ],
   "source": [
    "len(new_data2[new_data2['ph']>=positive_outlier])   # len of outlier"
   ]
  },
  {
   "cell_type": "code",
   "execution_count": 77,
   "id": "2eb19e34-31cd-4aae-a66a-d023ac424932",
   "metadata": {},
   "outputs": [
    {
     "data": {
      "text/plain": [
       "1908"
      ]
     },
     "execution_count": 77,
     "metadata": {},
     "output_type": "execute_result"
    }
   ],
   "source": [
    "len(new_data2[new_data2['ph']>=negative_outlier])   # len of outlier"
   ]
  },
  {
   "cell_type": "code",
   "execution_count": 78,
   "id": "f05a6e35-1b94-4310-8fb5-8f5da010550d",
   "metadata": {},
   "outputs": [],
   "source": [
    "new_data3=new_data2[(new_data2['ph']>=negative_outlier) & (new_data2['ph']<=positive_outlier)]"
   ]
  },
  {
   "cell_type": "code",
   "execution_count": 79,
   "id": "cb9b9cdf-fb5b-41d2-86b2-6aad0bd2badf",
   "metadata": {},
   "outputs": [
    {
     "data": {
      "image/png": "[encoded data removed]",
      "text/plain": [
       "<Figure size 640x480 with 1 Axes>"
      ]
     },
     "metadata": {},
     "output_type": "display_data"
    }
   ],
   "source": [
    "plt.hist(new_data3['ph'])\n",
    "plt.show()"
   ]
  },
  {
   "cell_type": "code",
   "execution_count": 80,
   "id": "721d8fd8-4bdd-4bf1-a4b1-4550baea5edf",
   "metadata": {},
   "outputs": [
    {
     "name": "stdout",
     "output_type": "stream",
     "text": [
      "<class 'pandas.core.frame.DataFrame'>\n",
      "Index: 1930 entries, 0 to 2199\n",
      "Data columns (total 8 columns):\n",
      " #   Column       Non-Null Count  Dtype  \n",
      "---  ------       --------------  -----  \n",
      " 0   N            1930 non-null   int64  \n",
      " 1   P            1930 non-null   int64  \n",
      " 2   K            1930 non-null   int64  \n",
      " 3   temperature  1930 non-null   float64\n",
      " 4   humidity     1930 non-null   float64\n",
      " 5   ph           1930 non-null   float64\n",
      " 6   rainfall     1930 non-null   float64\n",
      " 7   label        1930 non-null   object \n",
      "dtypes: float64(4), int64(3), object(1)\n",
      "memory usage: 135.7+ KB\n"
     ]
    }
   ],
   "source": [
    "new_data2.info()"
   ]
  },
  {
   "cell_type": "code",
   "execution_count": 81,
   "id": "6b49ba1c-c0e4-40d9-bfb9-292a12bd02ae",
   "metadata": {},
   "outputs": [
    {
     "name": "stdout",
     "output_type": "stream",
     "text": [
      "<class 'pandas.core.frame.DataFrame'>\n",
      "Index: 1872 entries, 0 to 2199\n",
      "Data columns (total 8 columns):\n",
      " #   Column       Non-Null Count  Dtype  \n",
      "---  ------       --------------  -----  \n",
      " 0   N            1872 non-null   int64  \n",
      " 1   P            1872 non-null   int64  \n",
      " 2   K            1872 non-null   int64  \n",
      " 3   temperature  1872 non-null   float64\n",
      " 4   humidity     1872 non-null   float64\n",
      " 5   ph           1872 non-null   float64\n",
      " 6   rainfall     1872 non-null   float64\n",
      " 7   label        1872 non-null   object \n",
      "dtypes: float64(4), int64(3), object(1)\n",
      "memory usage: 131.6+ KB\n"
     ]
    }
   ],
   "source": [
    "new_data3.info()"
   ]
  },
  {
   "cell_type": "code",
   "execution_count": 82,
   "id": "d2f62d13-cd39-43e3-8c82-e843751c9c48",
   "metadata": {},
   "outputs": [
    {
     "data": {
      "text/plain": [
       "count    1872.000000\n",
       "mean      105.094597\n",
       "std        57.400728\n",
       "min        20.211267\n",
       "25%        61.893756\n",
       "50%        95.729973\n",
       "75%       137.347076\n",
       "max       298.560117\n",
       "Name: rainfall, dtype: float64"
      ]
     },
     "execution_count": 82,
     "metadata": {},
     "output_type": "execute_result"
    }
   ],
   "source": [
    "new_data3['rainfall'].describe()"
   ]
  },
  {
   "cell_type": "code",
   "execution_count": 83,
   "id": "c93e740e-9e19-4444-9426-a1510da6a1d7",
   "metadata": {},
   "outputs": [
    {
     "data": {
      "text/plain": [
       "<Axes: >"
      ]
     },
     "execution_count": 83,
     "metadata": {},
     "output_type": "execute_result"
    },
    {
     "data": {
      "image/png": "[encoded data removed]",
      "text/plain": [
       "<Figure size 640x480 with 1 Axes>"
      ]
     },
     "metadata": {},
     "output_type": "display_data"
    }
   ],
   "source": [
    "new_data3.boxplot(column=['humidity'], return_type='axes')"
   ]
  },
  {
   "cell_type": "code",
   "execution_count": 84,
   "id": "295e15d0-a45f-4a99-8ec4-9221df9f9af3",
   "metadata": {},
   "outputs": [
    {
     "data": {
      "text/html": [
       "<div>\n",
       "<style scoped>\n",
       "    .dataframe tbody tr th:only-of-type {\n",
       "        vertical-align: middle;\n",
       "    }\n",
       "\n",
       "    .dataframe tbody tr th {\n",
       "        vertical-align: top;\n",
       "    }\n",
       "\n",
       "    .dataframe thead th {\n",
       "        text-align: right;\n",
       "    }\n",
       "</style>\n",
       "<table border=\"1\" class=\"dataframe\">\n",
       "  <thead>\n",
       "    <tr style=\"text-align: right;\">\n",
       "      <th></th>\n",
       "      <th>rainfall</th>\n",
       "    </tr>\n",
       "  </thead>\n",
       "  <tbody>\n",
       "    <tr>\n",
       "      <th>0</th>\n",
       "      <td>202.935536</td>\n",
       "    </tr>\n",
       "    <tr>\n",
       "      <th>1</th>\n",
       "      <td>226.655537</td>\n",
       "    </tr>\n",
       "    <tr>\n",
       "      <th>2</th>\n",
       "      <td>263.964248</td>\n",
       "    </tr>\n",
       "    <tr>\n",
       "      <th>3</th>\n",
       "      <td>242.864034</td>\n",
       "    </tr>\n",
       "    <tr>\n",
       "      <th>4</th>\n",
       "      <td>262.717340</td>\n",
       "    </tr>\n",
       "    <tr>\n",
       "      <th>...</th>\n",
       "      <td>...</td>\n",
       "    </tr>\n",
       "    <tr>\n",
       "      <th>2195</th>\n",
       "      <td>177.774507</td>\n",
       "    </tr>\n",
       "    <tr>\n",
       "      <th>2196</th>\n",
       "      <td>127.924610</td>\n",
       "    </tr>\n",
       "    <tr>\n",
       "      <th>2197</th>\n",
       "      <td>173.322839</td>\n",
       "    </tr>\n",
       "    <tr>\n",
       "      <th>2198</th>\n",
       "      <td>127.175293</td>\n",
       "    </tr>\n",
       "    <tr>\n",
       "      <th>2199</th>\n",
       "      <td>140.937041</td>\n",
       "    </tr>\n",
       "  </tbody>\n",
       "</table>\n",
       "<p>1872 rows × 1 columns</p>\n",
       "</div>"
      ],
      "text/plain": [
       "        rainfall\n",
       "0     202.935536\n",
       "1     226.655537\n",
       "2     263.964248\n",
       "3     242.864034\n",
       "4     262.717340\n",
       "...          ...\n",
       "2195  177.774507\n",
       "2196  127.924610\n",
       "2197  173.322839\n",
       "2198  127.175293\n",
       "2199  140.937041\n",
       "\n",
       "[1872 rows x 1 columns]"
      ]
     },
     "execution_count": 84,
     "metadata": {},
     "output_type": "execute_result"
    }
   ],
   "source": [
    "new_data3[['rainfall']]"
   ]
  },
  {
   "cell_type": "code",
   "execution_count": 85,
   "id": "15fed8ba-bc52-4e4a-a25f-d1575750d7a9",
   "metadata": {},
   "outputs": [],
   "source": [
    "        # 1st quartile\n",
    "        Q1 = np.percentile(new_data3['rainfall'],25)\n",
    "        # 3rd quartile\n",
    "        Q3 = np.percentile(new_data3['rainfall'],75)\n",
    "        # IQR\n",
    "        IQR = Q3 - Q1\n",
    "        # Outlier step\n",
    "        positive_outlier=Q3+1.5*IQR\n",
    "        negative_outlier=Q1-1.5*IQR"
   ]
  },
  {
   "cell_type": "code",
   "execution_count": 86,
   "id": "17033b35-fa73-4880-bd1c-e5daac12162e",
   "metadata": {},
   "outputs": [
    {
     "data": {
      "text/plain": [
       "61.8937556675"
      ]
     },
     "execution_count": 86,
     "metadata": {},
     "output_type": "execute_result"
    }
   ],
   "source": [
    "Q1"
   ]
  },
  {
   "cell_type": "code",
   "execution_count": 87,
   "id": "d6c65157-e841-408e-8fcb-f3619f42c0c2",
   "metadata": {},
   "outputs": [
    {
     "data": {
      "text/plain": [
       "137.34707582499996"
      ]
     },
     "execution_count": 87,
     "metadata": {},
     "output_type": "execute_result"
    }
   ],
   "source": [
    "Q3"
   ]
  },
  {
   "cell_type": "code",
   "execution_count": 88,
   "id": "fec346d3-7e21-4b4f-9f6d-aefff790cb5b",
   "metadata": {},
   "outputs": [
    {
     "data": {
      "text/plain": [
       "75.45332015749996"
      ]
     },
     "execution_count": 88,
     "metadata": {},
     "output_type": "execute_result"
    }
   ],
   "source": [
    "IQR"
   ]
  },
  {
   "cell_type": "code",
   "execution_count": 89,
   "id": "08ce2bcd-a2a4-4e19-8500-2e1f19a4dda5",
   "metadata": {},
   "outputs": [
    {
     "data": {
      "text/plain": [
       "250.5270560612499"
      ]
     },
     "execution_count": 89,
     "metadata": {},
     "output_type": "execute_result"
    }
   ],
   "source": [
    "positive_outlier"
   ]
  },
  {
   "cell_type": "code",
   "execution_count": 90,
   "id": "156cb407-1dcf-427d-8467-d73903aa8444",
   "metadata": {},
   "outputs": [
    {
     "data": {
      "text/plain": [
       "-51.286224568749944"
      ]
     },
     "execution_count": 90,
     "metadata": {},
     "output_type": "execute_result"
    }
   ],
   "source": [
    "negative_outlier"
   ]
  },
  {
   "cell_type": "code",
   "execution_count": 91,
   "id": "49e23af1-d6f5-4853-8944-8983838039b2",
   "metadata": {},
   "outputs": [
    {
     "data": {
      "text/plain": [
       "298.5601175"
      ]
     },
     "execution_count": 91,
     "metadata": {},
     "output_type": "execute_result"
    }
   ],
   "source": [
    "new_data3['rainfall'].max()"
   ]
  },
  {
   "cell_type": "code",
   "execution_count": 92,
   "id": "fd665e10-db74-4959-ba28-5607ec8fed10",
   "metadata": {},
   "outputs": [
    {
     "data": {
      "text/plain": [
       "37"
      ]
     },
     "execution_count": 92,
     "metadata": {},
     "output_type": "execute_result"
    }
   ],
   "source": [
    "len(new_data3[new_data3['rainfall']>=positive_outlier])   # len of outlier"
   ]
  },
  {
   "cell_type": "code",
   "execution_count": 93,
   "id": "2191480f-4810-4802-ad7b-8771a8131adf",
   "metadata": {},
   "outputs": [
    {
     "data": {
      "text/plain": [
       "1872"
      ]
     },
     "execution_count": 93,
     "metadata": {},
     "output_type": "execute_result"
    }
   ],
   "source": [
    "len(new_data3[new_data3['rainfall']>=negative_outlier])   # len of outlier"
   ]
  },
  {
   "cell_type": "code",
   "execution_count": 94,
   "id": "7d94f629-baa9-4f12-9509-dd193361d37d",
   "metadata": {},
   "outputs": [],
   "source": [
    "new_data4=new_data3[new_data3['rainfall']>=negative_outlier]"
   ]
  },
  {
   "cell_type": "code",
   "execution_count": 95,
   "id": "afed340d-535b-4464-9cfc-8a55189960d8",
   "metadata": {},
   "outputs": [
    {
     "data": {
      "image/png": "[encoded data removed]",
      "text/plain": [
       "<Figure size 640x480 with 1 Axes>"
      ]
     },
     "metadata": {},
     "output_type": "display_data"
    }
   ],
   "source": [
    "plt.hist(new_data4['rainfall'])\n",
    "plt.show()"
   ]
  },
  {
   "cell_type": "markdown",
   "id": "3a5ea1ea-4158-434a-aa74-6c3dc3b163da",
   "metadata": {},
   "source": [
    "# RandomForest"
   ]
  },
  {
   "cell_type": "code",
   "execution_count": 97,
   "id": "95433c44-f9bf-4e40-8e52-18e4ceb0496e",
   "metadata": {},
   "outputs": [],
   "source": [
    "x=new_data4[['N', 'P', 'K', 'temperature', 'humidity', 'ph', 'rainfall']]"
   ]
  },
  {
   "cell_type": "code",
   "execution_count": 98,
   "id": "ace195b1-febd-4b08-888e-74c27ebc298c",
   "metadata": {},
   "outputs": [],
   "source": [
    "y=new_data4['label']"
   ]
  },
  {
   "cell_type": "code",
   "execution_count": 99,
   "id": "936f4d2c-36aa-41de-ae9f-278108d3beae",
   "metadata": {},
   "outputs": [],
   "source": [
    "from sklearn.preprocessing import StandardScaler\n",
    "sc=StandardScaler()\n",
    "xsc=sc.fit_transform(x)"
   ]
  },
  {
   "cell_type": "code",
   "execution_count": 100,
   "id": "ea2fabb9-a167-40b2-945a-004c91e29dbb",
   "metadata": {},
   "outputs": [
    {
     "data": {
      "text/html": [
       "<div>\n",
       "<style scoped>\n",
       "    .dataframe tbody tr th:only-of-type {\n",
       "        vertical-align: middle;\n",
       "    }\n",
       "\n",
       "    .dataframe tbody tr th {\n",
       "        vertical-align: top;\n",
       "    }\n",
       "\n",
       "    .dataframe thead th {\n",
       "        text-align: right;\n",
       "    }\n",
       "</style>\n",
       "<table border=\"1\" class=\"dataframe\">\n",
       "  <thead>\n",
       "    <tr style=\"text-align: right;\">\n",
       "      <th></th>\n",
       "      <th>N</th>\n",
       "      <th>P</th>\n",
       "      <th>K</th>\n",
       "      <th>temperature</th>\n",
       "      <th>humidity</th>\n",
       "      <th>ph</th>\n",
       "      <th>rainfall</th>\n",
       "    </tr>\n",
       "  </thead>\n",
       "  <tbody>\n",
       "    <tr>\n",
       "      <th>0</th>\n",
       "      <td>0.928130</td>\n",
       "      <td>-0.138555</td>\n",
       "      <td>0.648527</td>\n",
       "      <td>-1.174105</td>\n",
       "      <td>0.525626</td>\n",
       "      <td>0.019232</td>\n",
       "      <td>1.704980</td>\n",
       "    </tr>\n",
       "    <tr>\n",
       "      <th>1</th>\n",
       "      <td>0.796060</td>\n",
       "      <td>0.579065</td>\n",
       "      <td>0.523850</td>\n",
       "      <td>-0.957481</td>\n",
       "      <td>0.449717</td>\n",
       "      <td>0.803523</td>\n",
       "      <td>2.118325</td>\n",
       "    </tr>\n",
       "    <tr>\n",
       "      <th>2</th>\n",
       "      <td>0.135710</td>\n",
       "      <td>0.444511</td>\n",
       "      <td>0.710865</td>\n",
       "      <td>-0.657372</td>\n",
       "      <td>0.539969</td>\n",
       "      <td>1.979144</td>\n",
       "      <td>2.768468</td>\n",
       "    </tr>\n",
       "    <tr>\n",
       "      <th>3</th>\n",
       "      <td>0.505506</td>\n",
       "      <td>-0.452513</td>\n",
       "      <td>0.461511</td>\n",
       "      <td>0.190582</td>\n",
       "      <td>0.442443</td>\n",
       "      <td>0.718961</td>\n",
       "      <td>2.400775</td>\n",
       "    </tr>\n",
       "    <tr>\n",
       "      <th>4</th>\n",
       "      <td>0.611162</td>\n",
       "      <td>-0.138555</td>\n",
       "      <td>0.586188</td>\n",
       "      <td>-1.356401</td>\n",
       "      <td>0.507682</td>\n",
       "      <td>1.668814</td>\n",
       "      <td>2.746740</td>\n",
       "    </tr>\n",
       "    <tr>\n",
       "      <th>...</th>\n",
       "      <td>...</td>\n",
       "      <td>...</td>\n",
       "      <td>...</td>\n",
       "      <td>...</td>\n",
       "      <td>...</td>\n",
       "      <td>...</td>\n",
       "      <td>...</td>\n",
       "    </tr>\n",
       "    <tr>\n",
       "      <th>1867</th>\n",
       "      <td>1.377168</td>\n",
       "      <td>-0.497364</td>\n",
       "      <td>-0.037197</td>\n",
       "      <td>0.259539</td>\n",
       "      <td>-0.177471</td>\n",
       "      <td>0.425335</td>\n",
       "      <td>1.266523</td>\n",
       "    </tr>\n",
       "    <tr>\n",
       "      <th>1868</th>\n",
       "      <td>1.165856</td>\n",
       "      <td>-1.349537</td>\n",
       "      <td>-0.348889</td>\n",
       "      <td>0.415790</td>\n",
       "      <td>-0.618418</td>\n",
       "      <td>-0.590575</td>\n",
       "      <td>0.397837</td>\n",
       "    </tr>\n",
       "    <tr>\n",
       "      <th>1869</th>\n",
       "      <td>1.667722</td>\n",
       "      <td>-0.542216</td>\n",
       "      <td>-0.161874</td>\n",
       "      <td>-0.383202</td>\n",
       "      <td>-0.140856</td>\n",
       "      <td>-0.186514</td>\n",
       "      <td>1.188948</td>\n",
       "    </tr>\n",
       "    <tr>\n",
       "      <th>1870</th>\n",
       "      <td>1.641308</td>\n",
       "      <td>-0.587067</td>\n",
       "      <td>0.087480</td>\n",
       "      <td>0.137399</td>\n",
       "      <td>-0.821776</td>\n",
       "      <td>0.394158</td>\n",
       "      <td>0.384779</td>\n",
       "    </tr>\n",
       "    <tr>\n",
       "      <th>1871</th>\n",
       "      <td>1.297926</td>\n",
       "      <td>-1.214984</td>\n",
       "      <td>-0.161874</td>\n",
       "      <td>-0.511802</td>\n",
       "      <td>-0.448834</td>\n",
       "      <td>0.424996</td>\n",
       "      <td>0.624592</td>\n",
       "    </tr>\n",
       "  </tbody>\n",
       "</table>\n",
       "<p>1872 rows × 7 columns</p>\n",
       "</div>"
      ],
      "text/plain": [
       "             N         P         K  temperature  humidity        ph  rainfall\n",
       "0     0.928130 -0.138555  0.648527    -1.174105  0.525626  0.019232  1.704980\n",
       "1     0.796060  0.579065  0.523850    -0.957481  0.449717  0.803523  2.118325\n",
       "2     0.135710  0.444511  0.710865    -0.657372  0.539969  1.979144  2.768468\n",
       "3     0.505506 -0.452513  0.461511     0.190582  0.442443  0.718961  2.400775\n",
       "4     0.611162 -0.138555  0.586188    -1.356401  0.507682  1.668814  2.746740\n",
       "...        ...       ...       ...          ...       ...       ...       ...\n",
       "1867  1.377168 -0.497364 -0.037197     0.259539 -0.177471  0.425335  1.266523\n",
       "1868  1.165856 -1.349537 -0.348889     0.415790 -0.618418 -0.590575  0.397837\n",
       "1869  1.667722 -0.542216 -0.161874    -0.383202 -0.140856 -0.186514  1.188948\n",
       "1870  1.641308 -0.587067  0.087480     0.137399 -0.821776  0.394158  0.384779\n",
       "1871  1.297926 -1.214984 -0.161874    -0.511802 -0.448834  0.424996  0.624592\n",
       "\n",
       "[1872 rows x 7 columns]"
      ]
     },
     "execution_count": 100,
     "metadata": {},
     "output_type": "execute_result"
    }
   ],
   "source": [
    "pd.DataFrame(xsc,columns=x.columns)"
   ]
  },
  {
   "cell_type": "code",
   "execution_count": 101,
   "id": "93ed0cfe-82c8-4e95-a75f-242d1bce6b91",
   "metadata": {},
   "outputs": [
    {
     "data": {
      "text/html": [
       "<div>\n",
       "<style scoped>\n",
       "    .dataframe tbody tr th:only-of-type {\n",
       "        vertical-align: middle;\n",
       "    }\n",
       "\n",
       "    .dataframe tbody tr th {\n",
       "        vertical-align: top;\n",
       "    }\n",
       "\n",
       "    .dataframe thead th {\n",
       "        text-align: right;\n",
       "    }\n",
       "</style>\n",
       "<table border=\"1\" class=\"dataframe\">\n",
       "  <thead>\n",
       "    <tr style=\"text-align: right;\">\n",
       "      <th></th>\n",
       "      <th>label</th>\n",
       "    </tr>\n",
       "  </thead>\n",
       "  <tbody>\n",
       "    <tr>\n",
       "      <th>0</th>\n",
       "      <td>rice</td>\n",
       "    </tr>\n",
       "    <tr>\n",
       "      <th>1</th>\n",
       "      <td>rice</td>\n",
       "    </tr>\n",
       "    <tr>\n",
       "      <th>2</th>\n",
       "      <td>rice</td>\n",
       "    </tr>\n",
       "    <tr>\n",
       "      <th>3</th>\n",
       "      <td>rice</td>\n",
       "    </tr>\n",
       "    <tr>\n",
       "      <th>4</th>\n",
       "      <td>rice</td>\n",
       "    </tr>\n",
       "    <tr>\n",
       "      <th>...</th>\n",
       "      <td>...</td>\n",
       "    </tr>\n",
       "    <tr>\n",
       "      <th>2195</th>\n",
       "      <td>coffee</td>\n",
       "    </tr>\n",
       "    <tr>\n",
       "      <th>2196</th>\n",
       "      <td>coffee</td>\n",
       "    </tr>\n",
       "    <tr>\n",
       "      <th>2197</th>\n",
       "      <td>coffee</td>\n",
       "    </tr>\n",
       "    <tr>\n",
       "      <th>2198</th>\n",
       "      <td>coffee</td>\n",
       "    </tr>\n",
       "    <tr>\n",
       "      <th>2199</th>\n",
       "      <td>coffee</td>\n",
       "    </tr>\n",
       "  </tbody>\n",
       "</table>\n",
       "<p>1872 rows × 1 columns</p>\n",
       "</div>"
      ],
      "text/plain": [
       "       label\n",
       "0       rice\n",
       "1       rice\n",
       "2       rice\n",
       "3       rice\n",
       "4       rice\n",
       "...      ...\n",
       "2195  coffee\n",
       "2196  coffee\n",
       "2197  coffee\n",
       "2198  coffee\n",
       "2199  coffee\n",
       "\n",
       "[1872 rows x 1 columns]"
      ]
     },
     "execution_count": 101,
     "metadata": {},
     "output_type": "execute_result"
    }
   ],
   "source": [
    "pd.DataFrame(y)"
   ]
  },
  {
   "cell_type": "code",
   "execution_count": 102,
   "id": "404c297e-5921-4eb5-8e1b-a30e894f8293",
   "metadata": {},
   "outputs": [],
   "source": [
    "from sklearn.model_selection import train_test_split"
   ]
  },
  {
   "cell_type": "code",
   "execution_count": 103,
   "id": "f92172ac-afeb-482e-962e-cbf6ab55a02b",
   "metadata": {},
   "outputs": [],
   "source": [
    "xtrain,xtest,ytrain,ytest=train_test_split(xsc,y,test_size=0.20,random_state=42)"
   ]
  },
  {
   "cell_type": "code",
   "execution_count": 104,
   "id": "94b98e90-8153-4bde-96f0-793490102673",
   "metadata": {},
   "outputs": [
    {
     "data": {
      "text/html": [
       "<style>#sk-container-id-1 {\n",
       "  /* Definition of color scheme common for light and dark mode */\n",
       "  --sklearn-color-text: black;\n",
       "  --sklearn-color-line: gray;\n",
       "  /* Definition of color scheme for unfitted estimators */\n",
       "  --sklearn-color-unfitted-level-0: #fff5e6;\n",
       "  --sklearn-color-unfitted-level-1: #f6e4d2;\n",
       "  --sklearn-color-unfitted-level-2: #ffe0b3;\n",
       "  --sklearn-color-unfitted-level-3: chocolate;\n",
       "  /* Definition of color scheme for fitted estimators */\n",
       "  --sklearn-color-fitted-level-0: #f0f8ff;\n",
       "  --sklearn-color-fitted-level-1: #d4ebff;\n",
       "  --sklearn-color-fitted-level-2: #b3dbfd;\n",
       "  --sklearn-color-fitted-level-3: cornflowerblue;\n",
       "\n",
       "  /* Specific color for light theme */\n",
       "  --sklearn-color-text-on-default-background: var(--sg-text-color, var(--theme-code-foreground, var(--jp-content-font-color1, black)));\n",
       "  --sklearn-color-background: var(--sg-background-color, var(--theme-background, var(--jp-layout-color0, white)));\n",
       "  --sklearn-color-border-box: var(--sg-text-color, var(--theme-code-foreground, var(--jp-content-font-color1, black)));\n",
       "  --sklearn-color-icon: #696969;\n",
       "\n",
       "  @media (prefers-color-scheme: dark) {\n",
       "    /* Redefinition of color scheme for dark theme */\n",
       "    --sklearn-color-text-on-default-background: var(--sg-text-color, var(--theme-code-foreground, var(--jp-content-font-color1, white)));\n",
       "    --sklearn-color-background: var(--sg-background-color, var(--theme-background, var(--jp-layout-color0, #111)));\n",
       "    --sklearn-color-border-box: var(--sg-text-color, var(--theme-code-foreground, var(--jp-content-font-color1, white)));\n",
       "    --sklearn-color-icon: #878787;\n",
       "  }\n",
       "}\n",
       "\n",
       "#sk-container-id-1 {\n",
       "  color: var(--sklearn-color-text);\n",
       "}\n",
       "\n",
       "#sk-container-id-1 pre {\n",
       "  padding: 0;\n",
       "}\n",
       "\n",
       "#sk-container-id-1 input.sk-hidden--visually {\n",
       "  border: 0;\n",
       "  clip: rect(1px 1px 1px 1px);\n",
       "  clip: rect(1px, 1px, 1px, 1px);\n",
       "  height: 1px;\n",
       "  margin: -1px;\n",
       "  overflow: hidden;\n",
       "  padding: 0;\n",
       "  position: absolute;\n",
       "  width: 1px;\n",
       "}\n",
       "\n",
       "#sk-container-id-1 div.sk-dashed-wrapped {\n",
       "  border: 1px dashed var(--sklearn-color-line);\n",
       "  margin: 0 0.4em 0.5em 0.4em;\n",
       "  box-sizing: border-box;\n",
       "  padding-bottom: 0.4em;\n",
       "  background-color: var(--sklearn-color-background);\n",
       "}\n",
       "\n",
       "#sk-container-id-1 div.sk-container {\n",
       "  /* jupyter's `normalize.less` sets `[hidden] { display: none; }`\n",
       "     but bootstrap.min.css set `[hidden] { display: none !important; }`\n",
       "     so we also need the `!important` here to be able to override the\n",
       "     default hidden behavior on the sphinx rendered scikit-learn.org.\n",
       "     See: https://github.com/scikit-learn/scikit-learn/issues/21755 */\n",
       "  display: inline-block !important;\n",
       "  position: relative;\n",
       "}\n",
       "\n",
       "#sk-container-id-1 div.sk-text-repr-fallback {\n",
       "  display: none;\n",
       "}\n",
       "\n",
       "div.sk-parallel-item,\n",
       "div.sk-serial,\n",
       "div.sk-item {\n",
       "  /* draw centered vertical line to link estimators */\n",
       "  background-image: linear-gradient(var(--sklearn-color-text-on-default-background), var(--sklearn-color-text-on-default-background));\n",
       "  background-size: 2px 100%;\n",
       "  background-repeat: no-repeat;\n",
       "  background-position: center center;\n",
       "}\n",
       "\n",
       "/* Parallel-specific style estimator block */\n",
       "\n",
       "#sk-container-id-1 div.sk-parallel-item::after {\n",
       "  content: \"\";\n",
       "  width: 100%;\n",
       "  border-bottom: 2px solid var(--sklearn-color-text-on-default-background);\n",
       "  flex-grow: 1;\n",
       "}\n",
       "\n",
       "#sk-container-id-1 div.sk-parallel {\n",
       "  display: flex;\n",
       "  align-items: stretch;\n",
       "  justify-content: center;\n",
       "  background-color: var(--sklearn-color-background);\n",
       "  position: relative;\n",
       "}\n",
       "\n",
       "#sk-container-id-1 div.sk-parallel-item {\n",
       "  display: flex;\n",
       "  flex-direction: column;\n",
       "}\n",
       "\n",
       "#sk-container-id-1 div.sk-parallel-item:first-child::after {\n",
       "  align-self: flex-end;\n",
       "  width: 50%;\n",
       "}\n",
       "\n",
       "#sk-container-id-1 div.sk-parallel-item:last-child::after {\n",
       "  align-self: flex-start;\n",
       "  width: 50%;\n",
       "}\n",
       "\n",
       "#sk-container-id-1 div.sk-parallel-item:only-child::after {\n",
       "  width: 0;\n",
       "}\n",
       "\n",
       "/* Serial-specific style estimator block */\n",
       "\n",
       "#sk-container-id-1 div.sk-serial {\n",
       "  display: flex;\n",
       "  flex-direction: column;\n",
       "  align-items: center;\n",
       "  background-color: var(--sklearn-color-background);\n",
       "  padding-right: 1em;\n",
       "  padding-left: 1em;\n",
       "}\n",
       "\n",
       "\n",
       "/* Toggleable style: style used for estimator/Pipeline/ColumnTransformer box that is\n",
       "clickable and can be expanded/collapsed.\n",
       "- Pipeline and ColumnTransformer use this feature and define the default style\n",
       "- Estimators will overwrite some part of the style using the `sk-estimator` class\n",
       "*/\n",
       "\n",
       "/* Pipeline and ColumnTransformer style (default) */\n",
       "\n",
       "#sk-container-id-1 div.sk-toggleable {\n",
       "  /* Default theme specific background. It is overwritten whether we have a\n",
       "  specific estimator or a Pipeline/ColumnTransformer */\n",
       "  background-color: var(--sklearn-color-background);\n",
       "}\n",
       "\n",
       "/* Toggleable label */\n",
       "#sk-container-id-1 label.sk-toggleable__label {\n",
       "  cursor: pointer;\n",
       "  display: block;\n",
       "  width: 100%;\n",
       "  margin-bottom: 0;\n",
       "  padding: 0.5em;\n",
       "  box-sizing: border-box;\n",
       "  text-align: center;\n",
       "}\n",
       "\n",
       "#sk-container-id-1 label.sk-toggleable__label-arrow:before {\n",
       "  /* Arrow on the left of the label */\n",
       "  content: \"▸\";\n",
       "  float: left;\n",
       "  margin-right: 0.25em;\n",
       "  color: var(--sklearn-color-icon);\n",
       "}\n",
       "\n",
       "#sk-container-id-1 label.sk-toggleable__label-arrow:hover:before {\n",
       "  color: var(--sklearn-color-text);\n",
       "}\n",
       "\n",
       "/* Toggleable content - dropdown */\n",
       "\n",
       "#sk-container-id-1 div.sk-toggleable__content {\n",
       "  max-height: 0;\n",
       "  max-width: 0;\n",
       "  overflow: hidden;\n",
       "  text-align: left;\n",
       "  /* unfitted */\n",
       "  background-color: var(--sklearn-color-unfitted-level-0);\n",
       "}\n",
       "\n",
       "#sk-container-id-1 div.sk-toggleable__content.fitted {\n",
       "  /* fitted */\n",
       "  background-color: var(--sklearn-color-fitted-level-0);\n",
       "}\n",
       "\n",
       "#sk-container-id-1 div.sk-toggleable__content pre {\n",
       "  margin: 0.2em;\n",
       "  border-radius: 0.25em;\n",
       "  color: var(--sklearn-color-text);\n",
       "  /* unfitted */\n",
       "  background-color: var(--sklearn-color-unfitted-level-0);\n",
       "}\n",
       "\n",
       "#sk-container-id-1 div.sk-toggleable__content.fitted pre {\n",
       "  /* unfitted */\n",
       "  background-color: var(--sklearn-color-fitted-level-0);\n",
       "}\n",
       "\n",
       "#sk-container-id-1 input.sk-toggleable__control:checked~div.sk-toggleable__content {\n",
       "  /* Expand drop-down */\n",
       "  max-height: 200px;\n",
       "  max-width: 100%;\n",
       "  overflow: auto;\n",
       "}\n",
       "\n",
       "#sk-container-id-1 input.sk-toggleable__control:checked~label.sk-toggleable__label-arrow:before {\n",
       "  content: \"▾\";\n",
       "}\n",
       "\n",
       "/* Pipeline/ColumnTransformer-specific style */\n",
       "\n",
       "#sk-container-id-1 div.sk-label input.sk-toggleable__control:checked~label.sk-toggleable__label {\n",
       "  color: var(--sklearn-color-text);\n",
       "  background-color: var(--sklearn-color-unfitted-level-2);\n",
       "}\n",
       "\n",
       "#sk-container-id-1 div.sk-label.fitted input.sk-toggleable__control:checked~label.sk-toggleable__label {\n",
       "  background-color: var(--sklearn-color-fitted-level-2);\n",
       "}\n",
       "\n",
       "/* Estimator-specific style */\n",
       "\n",
       "/* Colorize estimator box */\n",
       "#sk-container-id-1 div.sk-estimator input.sk-toggleable__control:checked~label.sk-toggleable__label {\n",
       "  /* unfitted */\n",
       "  background-color: var(--sklearn-color-unfitted-level-2);\n",
       "}\n",
       "\n",
       "#sk-container-id-1 div.sk-estimator.fitted input.sk-toggleable__control:checked~label.sk-toggleable__label {\n",
       "  /* fitted */\n",
       "  background-color: var(--sklearn-color-fitted-level-2);\n",
       "}\n",
       "\n",
       "#sk-container-id-1 div.sk-label label.sk-toggleable__label,\n",
       "#sk-container-id-1 div.sk-label label {\n",
       "  /* The background is the default theme color */\n",
       "  color: var(--sklearn-color-text-on-default-background);\n",
       "}\n",
       "\n",
       "/* On hover, darken the color of the background */\n",
       "#sk-container-id-1 div.sk-label:hover label.sk-toggleable__label {\n",
       "  color: var(--sklearn-color-text);\n",
       "  background-color: var(--sklearn-color-unfitted-level-2);\n",
       "}\n",
       "\n",
       "/* Label box, darken color on hover, fitted */\n",
       "#sk-container-id-1 div.sk-label.fitted:hover label.sk-toggleable__label.fitted {\n",
       "  color: var(--sklearn-color-text);\n",
       "  background-color: var(--sklearn-color-fitted-level-2);\n",
       "}\n",
       "\n",
       "/* Estimator label */\n",
       "\n",
       "#sk-container-id-1 div.sk-label label {\n",
       "  font-family: monospace;\n",
       "  font-weight: bold;\n",
       "  display: inline-block;\n",
       "  line-height: 1.2em;\n",
       "}\n",
       "\n",
       "#sk-container-id-1 div.sk-label-container {\n",
       "  text-align: center;\n",
       "}\n",
       "\n",
       "/* Estimator-specific */\n",
       "#sk-container-id-1 div.sk-estimator {\n",
       "  font-family: monospace;\n",
       "  border: 1px dotted var(--sklearn-color-border-box);\n",
       "  border-radius: 0.25em;\n",
       "  box-sizing: border-box;\n",
       "  margin-bottom: 0.5em;\n",
       "  /* unfitted */\n",
       "  background-color: var(--sklearn-color-unfitted-level-0);\n",
       "}\n",
       "\n",
       "#sk-container-id-1 div.sk-estimator.fitted {\n",
       "  /* fitted */\n",
       "  background-color: var(--sklearn-color-fitted-level-0);\n",
       "}\n",
       "\n",
       "/* on hover */\n",
       "#sk-container-id-1 div.sk-estimator:hover {\n",
       "  /* unfitted */\n",
       "  background-color: var(--sklearn-color-unfitted-level-2);\n",
       "}\n",
       "\n",
       "#sk-container-id-1 div.sk-estimator.fitted:hover {\n",
       "  /* fitted */\n",
       "  background-color: var(--sklearn-color-fitted-level-2);\n",
       "}\n",
       "\n",
       "/* Specification for estimator info (e.g. \"i\" and \"?\") */\n",
       "\n",
       "/* Common style for \"i\" and \"?\" */\n",
       "\n",
       ".sk-estimator-doc-link,\n",
       "a:link.sk-estimator-doc-link,\n",
       "a:visited.sk-estimator-doc-link {\n",
       "  float: right;\n",
       "  font-size: smaller;\n",
       "  line-height: 1em;\n",
       "  font-family: monospace;\n",
       "  background-color: var(--sklearn-color-background);\n",
       "  border-radius: 1em;\n",
       "  height: 1em;\n",
       "  width: 1em;\n",
       "  text-decoration: none !important;\n",
       "  margin-left: 1ex;\n",
       "  /* unfitted */\n",
       "  border: var(--sklearn-color-unfitted-level-1) 1pt solid;\n",
       "  color: var(--sklearn-color-unfitted-level-1);\n",
       "}\n",
       "\n",
       ".sk-estimator-doc-link.fitted,\n",
       "a:link.sk-estimator-doc-link.fitted,\n",
       "a:visited.sk-estimator-doc-link.fitted {\n",
       "  /* fitted */\n",
       "  border: var(--sklearn-color-fitted-level-1) 1pt solid;\n",
       "  color: var(--sklearn-color-fitted-level-1);\n",
       "}\n",
       "\n",
       "/* On hover */\n",
       "div.sk-estimator:hover .sk-estimator-doc-link:hover,\n",
       ".sk-estimator-doc-link:hover,\n",
       "div.sk-label-container:hover .sk-estimator-doc-link:hover,\n",
       ".sk-estimator-doc-link:hover {\n",
       "  /* unfitted */\n",
       "  background-color: var(--sklearn-color-unfitted-level-3);\n",
       "  color: var(--sklearn-color-background);\n",
       "  text-decoration: none;\n",
       "}\n",
       "\n",
       "div.sk-estimator.fitted:hover .sk-estimator-doc-link.fitted:hover,\n",
       ".sk-estimator-doc-link.fitted:hover,\n",
       "div.sk-label-container:hover .sk-estimator-doc-link.fitted:hover,\n",
       ".sk-estimator-doc-link.fitted:hover {\n",
       "  /* fitted */\n",
       "  background-color: var(--sklearn-color-fitted-level-3);\n",
       "  color: var(--sklearn-color-background);\n",
       "  text-decoration: none;\n",
       "}\n",
       "\n",
       "/* Span, style for the box shown on hovering the info icon */\n",
       ".sk-estimator-doc-link span {\n",
       "  display: none;\n",
       "  z-index: 9999;\n",
       "  position: relative;\n",
       "  font-weight: normal;\n",
       "  right: .2ex;\n",
       "  padding: .5ex;\n",
       "  margin: .5ex;\n",
       "  width: min-content;\n",
       "  min-width: 20ex;\n",
       "  max-width: 50ex;\n",
       "  color: var(--sklearn-color-text);\n",
       "  box-shadow: 2pt 2pt 4pt #999;\n",
       "  /* unfitted */\n",
       "  background: var(--sklearn-color-unfitted-level-0);\n",
       "  border: .5pt solid var(--sklearn-color-unfitted-level-3);\n",
       "}\n",
       "\n",
       ".sk-estimator-doc-link.fitted span {\n",
       "  /* fitted */\n",
       "  background: var(--sklearn-color-fitted-level-0);\n",
       "  border: var(--sklearn-color-fitted-level-3);\n",
       "}\n",
       "\n",
       ".sk-estimator-doc-link:hover span {\n",
       "  display: block;\n",
       "}\n",
       "\n",
       "/* \"?\"-specific style due to the `<a>` HTML tag */\n",
       "\n",
       "#sk-container-id-1 a.estimator_doc_link {\n",
       "  float: right;\n",
       "  font-size: 1rem;\n",
       "  line-height: 1em;\n",
       "  font-family: monospace;\n",
       "  background-color: var(--sklearn-color-background);\n",
       "  border-radius: 1rem;\n",
       "  height: 1rem;\n",
       "  width: 1rem;\n",
       "  text-decoration: none;\n",
       "  /* unfitted */\n",
       "  color: var(--sklearn-color-unfitted-level-1);\n",
       "  border: var(--sklearn-color-unfitted-level-1) 1pt solid;\n",
       "}\n",
       "\n",
       "#sk-container-id-1 a.estimator_doc_link.fitted {\n",
       "  /* fitted */\n",
       "  border: var(--sklearn-color-fitted-level-1) 1pt solid;\n",
       "  color: var(--sklearn-color-fitted-level-1);\n",
       "}\n",
       "\n",
       "/* On hover */\n",
       "#sk-container-id-1 a.estimator_doc_link:hover {\n",
       "  /* unfitted */\n",
       "  background-color: var(--sklearn-color-unfitted-level-3);\n",
       "  color: var(--sklearn-color-background);\n",
       "  text-decoration: none;\n",
       "}\n",
       "\n",
       "#sk-container-id-1 a.estimator_doc_link.fitted:hover {\n",
       "  /* fitted */\n",
       "  background-color: var(--sklearn-color-fitted-level-3);\n",
       "}\n",
       "</style><div id=\"sk-container-id-1\" class=\"sk-top-container\"><div class=\"sk-text-repr-fallback\"><pre>RandomForestClassifier(n_estimators=10, random_state=42)</pre><b>In a Jupyter environment, please rerun this cell to show the HTML representation or trust the notebook. <br />On GitHub, the HTML representation is unable to render, please try loading this page with nbviewer.org.</b></div><div class=\"sk-container\" hidden><div class=\"sk-item\"><div class=\"sk-estimator fitted sk-toggleable\"><input class=\"sk-toggleable__control sk-hidden--visually\" id=\"sk-estimator-id-1\" type=\"checkbox\" checked><label for=\"sk-estimator-id-1\" class=\"sk-toggleable__label fitted sk-toggleable__label-arrow fitted\">&nbsp;&nbsp;RandomForestClassifier<a class=\"sk-estimator-doc-link fitted\" rel=\"noreferrer\" target=\"_blank\" href=\"https://scikit-learn.org/1.4/modules/generated/sklearn.ensemble.RandomForestClassifier.html\">?<span>Documentation for RandomForestClassifier</span></a><span class=\"sk-estimator-doc-link fitted\">i<span>Fitted</span></span></label><div class=\"sk-toggleable__content fitted\"><pre>RandomForestClassifier(n_estimators=10, random_state=42)</pre></div> </div></div></div></div>"
      ],
      "text/plain": [
       "RandomForestClassifier(n_estimators=10, random_state=42)"
      ]
     },
     "execution_count": 104,
     "metadata": {},
     "output_type": "execute_result"
    }
   ],
   "source": [
    "from sklearn.ensemble import RandomForestClassifier\n",
    "classifier =RandomForestClassifier(n_estimators=10, criterion='gini',random_state=42)\n",
    "classifier.fit(xtrain,ytrain)"
   ]
  },
  {
   "cell_type": "code",
   "execution_count": 105,
   "id": "3cd2cb80-e2af-40cd-8e07-b4fb15e00a1c",
   "metadata": {},
   "outputs": [],
   "source": [
    "ypred=classifier.predict(xtest)"
   ]
  },
  {
   "cell_type": "code",
   "execution_count": 106,
   "id": "6e5a3b2d-34da-48b5-87a3-ad3ffd9660a3",
   "metadata": {},
   "outputs": [
    {
     "data": {
      "text/plain": [
       "array(['jute', 'watermelon', 'papaya', 'chickpea', 'pigeonpeas', 'mango',\n",
       "       'chickpea', 'pigeonpeas', 'kidneybeans', 'chickpea', 'pomegranate',\n",
       "       'mango', 'muskmelon', 'kidneybeans', 'coconut', 'mungbean',\n",
       "       'orange', 'mothbeans', 'banana', 'watermelon', 'kidneybeans',\n",
       "       'mothbeans', 'jute', 'pomegranate', 'mothbeans', 'lentil',\n",
       "       'muskmelon', 'kidneybeans', 'coconut', 'mango', 'lentil',\n",
       "       'pigeonpeas', 'coffee', 'pigeonpeas', 'mango', 'banana', 'papaya',\n",
       "       'coffee', 'orange', 'watermelon', 'blackgram', 'maize', 'mungbean',\n",
       "       'watermelon', 'orange', 'kidneybeans', 'banana', 'pomegranate',\n",
       "       'cotton', 'muskmelon', 'jute', 'coconut', 'kidneybeans', 'banana',\n",
       "       'jute', 'mungbean', 'papaya', 'blackgram', 'watermelon', 'jute',\n",
       "       'watermelon', 'pigeonpeas', 'orange', 'cotton', 'chickpea',\n",
       "       'maize', 'lentil', 'rice', 'orange', 'muskmelon', 'coconut',\n",
       "       'jute', 'coconut', 'pigeonpeas', 'banana', 'maize', 'banana',\n",
       "       'muskmelon', 'lentil', 'coffee', 'coconut', 'mungbean', 'cotton',\n",
       "       'muskmelon', 'pigeonpeas', 'banana', 'banana', 'mungbean',\n",
       "       'blackgram', 'pigeonpeas', 'lentil', 'mungbean', 'mothbeans',\n",
       "       'mango', 'jute', 'muskmelon', 'maize', 'kidneybeans', 'maize',\n",
       "       'chickpea', 'chickpea', 'pigeonpeas', 'watermelon', 'jute',\n",
       "       'banana', 'orange', 'lentil', 'chickpea', 'lentil', 'watermelon',\n",
       "       'pigeonpeas', 'papaya', 'mungbean', 'orange', 'coconut', 'mango',\n",
       "       'lentil', 'pigeonpeas', 'muskmelon', 'jute', 'watermelon',\n",
       "       'chickpea', 'mango', 'mango', 'cotton', 'kidneybeans', 'rice',\n",
       "       'cotton', 'kidneybeans', 'orange', 'coconut', 'cotton', 'mungbean',\n",
       "       'mango', 'mungbean', 'muskmelon', 'banana', 'coffee', 'cotton',\n",
       "       'chickpea', 'rice', 'kidneybeans', 'rice', 'jute', 'mungbean',\n",
       "       'jute', 'blackgram', 'coconut', 'lentil', 'jute', 'coffee',\n",
       "       'pigeonpeas', 'coconut', 'coffee', 'orange', 'muskmelon',\n",
       "       'pomegranate', 'mungbean', 'lentil', 'watermelon', 'blackgram',\n",
       "       'pomegranate', 'maize', 'lentil', 'lentil', 'cotton', 'mungbean',\n",
       "       'blackgram', 'chickpea', 'mango', 'coffee', 'cotton', 'watermelon',\n",
       "       'maize', 'banana', 'chickpea', 'pomegranate', 'coconut', 'banana',\n",
       "       'muskmelon', 'rice', 'muskmelon', 'chickpea', 'banana', 'maize',\n",
       "       'papaya', 'maize', 'blackgram', 'watermelon', 'pigeonpeas', 'rice',\n",
       "       'kidneybeans', 'muskmelon', 'watermelon', 'cotton', 'papaya',\n",
       "       'kidneybeans', 'papaya', 'banana', 'lentil', 'cotton', 'mango',\n",
       "       'pigeonpeas', 'pigeonpeas', 'lentil', 'coffee', 'blackgram',\n",
       "       'jute', 'rice', 'coconut', 'watermelon', 'jute', 'kidneybeans',\n",
       "       'coffee', 'chickpea', 'rice', 'maize', 'mungbean', 'mungbean',\n",
       "       'banana', 'papaya', 'pomegranate', 'blackgram', 'mothbeans',\n",
       "       'muskmelon', 'mothbeans', 'muskmelon', 'jute', 'pomegranate',\n",
       "       'pomegranate', 'mungbean', 'papaya', 'coffee', 'chickpea', 'rice',\n",
       "       'coffee', 'coconut', 'rice', 'pigeonpeas', 'pigeonpeas',\n",
       "       'mungbean', 'mothbeans', 'muskmelon', 'coffee', 'kidneybeans',\n",
       "       'coffee', 'cotton', 'lentil', 'rice', 'kidneybeans', 'coconut',\n",
       "       'papaya', 'orange', 'mungbean', 'coconut', 'pigeonpeas', 'lentil',\n",
       "       'papaya', 'coconut', 'kidneybeans', 'coffee', 'rice', 'maize',\n",
       "       'orange', 'coconut', 'coffee', 'banana', 'mungbean', 'coconut',\n",
       "       'kidneybeans', 'mungbean', 'pigeonpeas', 'lentil', 'banana',\n",
       "       'maize', 'coconut', 'orange', 'pigeonpeas', 'coffee', 'blackgram',\n",
       "       'coconut', 'orange', 'coffee', 'jute', 'coffee', 'coconut',\n",
       "       'maize', 'cotton', 'cotton', 'mothbeans', 'cotton', 'kidneybeans',\n",
       "       'coconut', 'pomegranate', 'maize', 'mothbeans', 'coconut',\n",
       "       'cotton', 'muskmelon', 'chickpea', 'pigeonpeas', 'rice', 'mango',\n",
       "       'mungbean', 'pomegranate', 'jute', 'muskmelon', 'coffee', 'cotton',\n",
       "       'coffee', 'orange', 'jute', 'kidneybeans', 'coconut', 'coffee',\n",
       "       'jute', 'coconut', 'kidneybeans', 'lentil', 'blackgram', 'jute',\n",
       "       'orange', 'banana', 'chickpea', 'muskmelon', 'chickpea', 'jute',\n",
       "       'mungbean', 'blackgram', 'banana', 'pigeonpeas', 'coffee',\n",
       "       'lentil', 'pomegranate', 'mothbeans', 'rice', 'jute', 'chickpea',\n",
       "       'rice', 'muskmelon', 'watermelon', 'jute', 'kidneybeans',\n",
       "       'muskmelon', 'watermelon', 'kidneybeans', 'mungbean',\n",
       "       'pomegranate', 'jute', 'pomegranate', 'orange', 'cotton',\n",
       "       'mothbeans', 'pomegranate', 'coffee', 'mungbean', 'coconut',\n",
       "       'maize', 'mungbean', 'watermelon', 'jute', 'blackgram', 'papaya',\n",
       "       'maize', 'muskmelon', 'pomegranate', 'jute', 'kidneybeans',\n",
       "       'mungbean', 'pigeonpeas', 'watermelon', 'kidneybeans', 'chickpea',\n",
       "       'maize', 'lentil'], dtype=object)"
      ]
     },
     "execution_count": 106,
     "metadata": {},
     "output_type": "execute_result"
    }
   ],
   "source": [
    "ypred"
   ]
  },
  {
   "cell_type": "code",
   "execution_count": 107,
   "id": "7221415d-e8bb-45d5-8611-c3e831aaa232",
   "metadata": {},
   "outputs": [],
   "source": [
    "from sklearn.metrics import confusion_matrix"
   ]
  },
  {
   "cell_type": "code",
   "execution_count": 108,
   "id": "a7d6cd8b-c421-4eca-9e7d-6a5bf94ada39",
   "metadata": {},
   "outputs": [],
   "source": [
    "cm=confusion_matrix(ytest,ypred)"
   ]
  },
  {
   "cell_type": "code",
   "execution_count": 109,
   "id": "db80de2d-4ecb-454c-9a6f-2879be17221f",
   "metadata": {},
   "outputs": [
    {
     "data": {
      "text/plain": [
       "array([[19,  0,  0,  0,  0,  0,  0,  0,  0,  0,  0,  0,  0,  0,  0,  0,\n",
       "         0,  0,  0,  0],\n",
       "       [ 0, 13,  0,  0,  0,  0,  0,  0,  0,  0,  0,  0,  0,  0,  0,  0,\n",
       "         0,  0,  0,  0],\n",
       "       [ 0,  0, 19,  0,  0,  0,  0,  0,  0,  0,  0,  0,  0,  0,  0,  0,\n",
       "         0,  0,  0,  0],\n",
       "       [ 0,  0,  0, 26,  0,  0,  0,  0,  0,  0,  0,  0,  0,  0,  0,  0,\n",
       "         0,  0,  0,  0],\n",
       "       [ 0,  0,  0,  0, 23,  0,  0,  0,  0,  0,  0,  0,  0,  0,  0,  0,\n",
       "         0,  0,  0,  0],\n",
       "       [ 0,  0,  0,  0,  0, 18,  0,  0,  0,  0,  0,  0,  0,  0,  0,  0,\n",
       "         0,  0,  0,  0],\n",
       "       [ 0,  0,  0,  0,  0,  0, 22,  0,  0,  0,  0,  0,  0,  0,  0,  0,\n",
       "         0,  0,  0,  0],\n",
       "       [ 0,  0,  0,  0,  0,  0,  0, 24,  0,  0,  0,  0,  0,  0,  0,  0,\n",
       "         0,  0,  0,  0],\n",
       "       [ 0,  0,  0,  0,  0,  0,  0,  0, 19,  0,  0,  0,  0,  0,  0,  0,\n",
       "         0,  0,  0,  0],\n",
       "       [ 0,  0,  0,  0,  0,  0,  0,  0,  0, 17,  0,  0,  0,  0,  0,  0,\n",
       "         0,  0,  0,  0],\n",
       "       [ 0,  0,  0,  0,  0,  0,  0,  0,  0,  0, 12,  0,  0,  0,  0,  0,\n",
       "         0,  0,  0,  0],\n",
       "       [ 0,  0,  0,  0,  0,  0,  0,  0,  1,  0,  0, 11,  0,  0,  0,  0,\n",
       "         1,  0,  0,  0],\n",
       "       [ 0,  0,  0,  0,  0,  0,  0,  0,  0,  0,  0,  0, 25,  0,  0,  0,\n",
       "         0,  0,  0,  0],\n",
       "       [ 0,  0,  0,  0,  0,  0,  0,  0,  0,  0,  0,  0,  0, 22,  0,  0,\n",
       "         0,  0,  0,  0],\n",
       "       [ 0,  0,  0,  0,  0,  0,  0,  0,  0,  0,  0,  0,  0,  0, 16,  0,\n",
       "         0,  0,  0,  0],\n",
       "       [ 0,  0,  0,  0,  0,  0,  0,  0,  0,  0,  0,  0,  0,  0,  0, 12,\n",
       "         0,  0,  0,  0],\n",
       "       [ 0,  0,  0,  0,  0,  0,  0,  0,  0,  0,  0,  0,  0,  0,  0,  0,\n",
       "        22,  0,  0,  0],\n",
       "       [ 0,  0,  0,  0,  0,  0,  0,  0,  0,  0,  0,  0,  0,  0,  0,  0,\n",
       "         0, 16,  0,  0],\n",
       "       [ 0,  0,  0,  0,  0,  0,  4,  0,  0,  0,  0,  0,  0,  0,  0,  0,\n",
       "         0,  0, 15,  0],\n",
       "       [ 0,  0,  0,  0,  0,  0,  0,  0,  0,  0,  0,  0,  0,  0,  0,  0,\n",
       "         0,  0,  0, 18]], dtype=int64)"
      ]
     },
     "execution_count": 109,
     "metadata": {},
     "output_type": "execute_result"
    }
   ],
   "source": [
    "cm"
   ]
  },
  {
   "cell_type": "code",
   "execution_count": 110,
   "id": "fc5816ed-6df1-4516-b96c-ac078ce27dc1",
   "metadata": {},
   "outputs": [],
   "source": [
    "from sklearn.metrics import accuracy_score"
   ]
  },
  {
   "cell_type": "code",
   "execution_count": 111,
   "id": "fe7900bf-5330-4069-9e31-98eecec0d186",
   "metadata": {},
   "outputs": [],
   "source": [
    "score=accuracy_score(ytest,ypred)"
   ]
  },
  {
   "cell_type": "code",
   "execution_count": 112,
   "id": "d7f2133b-bf63-48dd-a0c9-0c6cd78545a7",
   "metadata": {},
   "outputs": [
    {
     "data": {
      "text/plain": [
       "0.984"
      ]
     },
     "execution_count": 112,
     "metadata": {},
     "output_type": "execute_result"
    }
   ],
   "source": [
    "score"
   ]
  },
  {
   "cell_type": "code",
   "execution_count": 113,
   "id": "652d62a4-3a34-4c86-bb36-2fbbd41dde35",
   "metadata": {},
   "outputs": [
    {
     "name": "stdout",
     "output_type": "stream",
     "text": [
      "              precision    recall  f1-score   support\n",
      "\n",
      "      banana       1.00      1.00      1.00        19\n",
      "   blackgram       1.00      1.00      1.00        13\n",
      "    chickpea       1.00      1.00      1.00        19\n",
      "     coconut       1.00      1.00      1.00        26\n",
      "      coffee       1.00      1.00      1.00        23\n",
      "      cotton       1.00      1.00      1.00        18\n",
      "        jute       0.85      1.00      0.92        22\n",
      " kidneybeans       1.00      1.00      1.00        24\n",
      "      lentil       0.95      1.00      0.97        19\n",
      "       maize       1.00      1.00      1.00        17\n",
      "       mango       1.00      1.00      1.00        12\n",
      "   mothbeans       1.00      0.85      0.92        13\n",
      "    mungbean       1.00      1.00      1.00        25\n",
      "   muskmelon       1.00      1.00      1.00        22\n",
      "      orange       1.00      1.00      1.00        16\n",
      "      papaya       1.00      1.00      1.00        12\n",
      "  pigeonpeas       0.96      1.00      0.98        22\n",
      " pomegranate       1.00      1.00      1.00        16\n",
      "        rice       1.00      0.79      0.88        19\n",
      "  watermelon       1.00      1.00      1.00        18\n",
      "\n",
      "    accuracy                           0.98       375\n",
      "   macro avg       0.99      0.98      0.98       375\n",
      "weighted avg       0.99      0.98      0.98       375\n",
      "\n"
     ]
    }
   ],
   "source": [
    "from sklearn.metrics import classification_report\n",
    "print(classification_report(ytest,ypred))"
   ]
  },
  {
   "cell_type": "code",
   "execution_count": 114,
   "id": "7c642c11-9227-4555-95df-c160a5d123c2",
   "metadata": {},
   "outputs": [],
   "source": [
    "import seaborn as sns"
   ]
  },
  {
   "cell_type": "code",
   "execution_count": 115,
   "id": "9e1f035a-4989-4dee-b371-5fcc1bd233bf",
   "metadata": {},
   "outputs": [
    {
     "data": {
      "image/png": "[encoded data removed]",
      "text/plain": [
       "<Figure size 640x480 with 2 Axes>"
      ]
     },
     "metadata": {},
     "output_type": "display_data"
    }
   ],
   "source": [
    "x1=sns.heatmap(cm,annot=True)"
   ]
  },
  {
   "cell_type": "code",
   "execution_count": 116,
   "id": "a8719524-1868-40cf-918b-c39bf854a397",
   "metadata": {},
   "outputs": [],
   "source": [
    "import pickle"
   ]
  },
  {
   "cell_type": "code",
   "execution_count": 117,
   "id": "0d7b9f5e-b8ec-47f7-91c8-4ea2b2af0b2e",
   "metadata": {},
   "outputs": [
    {
     "name": "stdout",
     "output_type": "stream",
     "text": [
      "Model trained and saved successfully!\n"
     ]
    }
   ],
   "source": [
    "# Save the model\n",
    "with open(\"classifier.pkl\", \"wb\") as f:\n",
    "    pickle.dump(classifier, f)\n",
    "\n",
    "print(\"Model trained and saved successfully!\")"
   ]
  },
  {
   "cell_type": "code",
   "execution_count": 118,
   "id": "ea226943-c08b-4654-84da-af84e963908f",
   "metadata": {},
   "outputs": [],
   "source": [
    "import tkinter as tk\n",
    "from tkinter import messagebox\n",
    "import pickle\n",
    "\n",
    "# Load the trained model\n",
    "with open(\"classifier.pkl\", \"rb\") as f:\n",
    "    model = pickle.load(f)\n",
    "\n",
    "# Login credentials\n",
    "USER_CREDENTIALS = {\"admin\": \"password123\"}\n",
    "\n",
    "# Function for login validation\n",
    "def validate_login():\n",
    "    username = username_entry.get()\n",
    "    password = password_entry.get()\n",
    "    if username in USER_CREDENTIALS and USER_CREDENTIALS[username] == password:\n",
    "        login_window.destroy()\n",
    "        open_prediction_window()\n",
    "    else:\n",
    "        messagebox.showerror(\"Login Failed\", \"Invalid username or password!\")\n",
    "\n",
    "# Function for crop prediction\n",
    "def predict_crop():\n",
    "    try:\n",
    "        n = float(n_entry.get())\n",
    "        p = float(p_entry.get())\n",
    "        k = float(k_entry.get())\n",
    "        temp = float(temp_entry.get())\n",
    "        humidity = float(humidity_entry.get())\n",
    "        ph = float(ph_entry.get())\n",
    "        rainfall = float(rainfall_entry.get())\n",
    "        \n",
    "        # Make prediction\n",
    "        prediction = model.predict([[n, p, k, temp, humidity, ph, rainfall]])\n",
    "        result_label.config(text=f\"Recommended Crop: {prediction[0]}\")\n",
    "    except Exception as e:\n",
    "        messagebox.showerror(\"Error\", f\"Invalid input: {e}\")\n",
    "\n",
    "# Function to open prediction window\n",
    "def open_prediction_window():\n",
    "    prediction_window = tk.Tk()\n",
    "    prediction_window.title(\"Crop Prediction System\")\n",
    "    \n",
    "    # Input labels and fields\n",
    "    tk.Label(prediction_window, text=\"Nitrogen (N):\").grid(row=0, column=0)\n",
    "    tk.Label(prediction_window, text=\"Phosphorus (P):\").grid(row=1, column=0)\n",
    "    tk.Label(prediction_window, text=\"Potassium (K):\").grid(row=2, column=0)\n",
    "    tk.Label(prediction_window, text=\"Temperature (°C):\").grid(row=3, column=0)\n",
    "    tk.Label(prediction_window, text=\"Humidity (%):\").grid(row=4, column=0)\n",
    "    tk.Label(prediction_window, text=\"pH:\").grid(row=5, column=0)\n",
    "    tk.Label(prediction_window, text=\"Rainfall (mm):\").grid(row=6, column=0)\n",
    "    \n",
    "    global n_entry, p_entry, k_entry, temp_entry, humidity_entry, ph_entry, rainfall_entry, result_label\n",
    "    n_entry = tk.Entry(prediction_window)\n",
    "    p_entry = tk.Entry(prediction_window)\n",
    "    k_entry = tk.Entry(prediction_window)\n",
    "    temp_entry = tk.Entry(prediction_window)\n",
    "    humidity_entry = tk.Entry(prediction_window)\n",
    "    ph_entry = tk.Entry(prediction_window)\n",
    "    rainfall_entry = tk.Entry(prediction_window)\n",
    "    \n",
    "    n_entry.grid(row=0, column=1)\n",
    "    p_entry.grid(row=1, column=1)\n",
    "    k_entry.grid(row=2, column=1)\n",
    "    temp_entry.grid(row=3, column=1)\n",
    "    humidity_entry.grid(row=4, column=1)\n",
    "    ph_entry.grid(row=5, column=1)\n",
    "    rainfall_entry.grid(row=6, column=1)\n",
    "    \n",
    "    # Predict button\n",
    "    tk.Button(prediction_window, text=\"Predict Crop\", command=predict_crop).grid(row=7, column=1)\n",
    "    \n",
    "    # Result label\n",
    "    result_label = tk.Label(prediction_window, text=\"Recommended Crop: \")\n",
    "    result_label.grid(row=8, column=1)\n",
    "    \n",
    "    prediction_window.mainloop()\n",
    "\n",
    "# Login Window\n",
    "login_window = tk.Tk()\n",
    "login_window.title(\"Login Page\")\n",
    "\n",
    "# Login fields\n",
    "tk.Label(login_window, text=\"Username:\").grid(row=0, column=0)\n",
    "tk.Label(login_window, text=\"Password:\").grid(row=1, column=0)\n",
    "\n",
    "username_entry = tk.Entry(login_window)\n",
    "password_entry = tk.Entry(login_window, show=\"*\")\n",
    "username_entry.grid(row=0, column=1)\n",
    "password_entry.grid(row=1, column=1)\n",
    "\n",
    "# Login button\n",
    "tk.Button(login_window, text=\"Login\", command=validate_login).grid(row=2, column=1)\n",
    "\n",
    "login_window.mainloop()"
   ]
  }
 ],
 "metadata": {
  "kernelspec": {
   "display_name": "Python 3 (ipykernel)",
   "language": "python",
   "name": "python3"
  },
  "language_info": {
   "codemirror_mode": {
    "name": "ipython",
    "version": 3
   },
   "file_extension": ".py",
   "mimetype": "text/x-python",
   "name": "python",
   "nbconvert_exporter": "python",
   "pygments_lexer": "ipython3",
   "version": "3.12.4"
  }
 },
 "nbformat": 4,
 "nbformat_minor": 5
}
